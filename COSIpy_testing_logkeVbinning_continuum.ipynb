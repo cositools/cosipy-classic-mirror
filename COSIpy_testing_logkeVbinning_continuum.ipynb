{
 "cells": [
  {
   "cell_type": "code",
   "execution_count": 2,
   "metadata": {},
   "outputs": [],
   "source": [
    "from COSIpy import *\n",
    "import response\n",
    "from fit import fit\n",
    "plt.style.use('thomas')"
   ]
  },
  {
   "cell_type": "code",
   "execution_count": 3,
   "metadata": {},
   "outputs": [],
   "source": [
    "plt.style.use('thomas')"
   ]
  },
  {
   "cell_type": "code",
   "execution_count": 4,
   "metadata": {},
   "outputs": [],
   "source": [
    "#data_dir = 'data'\n",
    "#filename = 'test_dataset_9det_CE0000-1000keV_EHCstandard.tra.gz'\n",
    "#filename = 'SRC9det_PS511keV_l-010_b-010_simOP_160628_FullDay_CE0000-1000keV_EHCstandard.tra.gz'\n",
    "\n",
    "data_dir = '/Users/thomassiegert/data/COSI/Simulations/clio/from_cronus/'\n",
    "filename = 'CrabOnly_CE_0000-5000keV.tra'"
   ]
  },
  {
   "cell_type": "code",
   "execution_count": 5,
   "metadata": {},
   "outputs": [],
   "source": [
    "analysis = COSIpy(data_dir,filename)"
   ]
  },
  {
   "cell_type": "code",
   "execution_count": 6,
   "metadata": {},
   "outputs": [
    {
     "name": "stderr",
     "output_type": "stream",
     "text": [
      "Error in <TProtoClass::FindDataMember>: data member with index 0 is not found in class locale\n",
      "Error in <CreateRealData>: Cannot find data member # 0 of class locale for parent MFile!\n",
      "Error in <TProtoClass::FindDataMember>: data member with index 0 is not found in class locale\n",
      "Error in <CreateRealData>: Cannot find data member # 0 of class locale for parent MFileEvents!\n",
      "Error in <TProtoClass::FindDataMember>: data member with index 0 is not found in class locale\n",
      "Error in <CreateRealData>: Cannot find data member # 0 of class locale for parent MFileEventsTra!\n"
     ]
    }
   ],
   "source": [
    "analysis.read_COSI_DataSet()"
   ]
  },
  {
   "cell_type": "code",
   "execution_count": 7,
   "metadata": {},
   "outputs": [],
   "source": [
    "analysis.dataset.time_binning_tags(time_bin_size=3600)"
   ]
  },
  {
   "cell_type": "code",
   "execution_count": 8,
   "metadata": {},
   "outputs": [],
   "source": [
    "energy_bin_edges=np.array([150,325,506,516,650,825,1000])\n",
    "energy_bin_edges=np.array([ 150,  220,  325,  480,  520,  765, 1120, 1650, 2350])#, 3450, 5000])\n",
    "#energy_bin_edges=np.array([506,516])\n",
    "#energy_bin_edges=np.arange(156,996,10)\n",
    "#energy_bin_edges = np.logspace(2,3,7)\n",
    "#energy_bin_edges = np.logspace(2,3,12)"
   ]
  },
  {
   "cell_type": "code",
   "execution_count": 9,
   "metadata": {},
   "outputs": [
    {
     "data": {
      "text/plain": [
       "array([ 150,  220,  325,  480,  520,  765, 1120, 1650, 2350])"
      ]
     },
     "execution_count": 9,
     "metadata": {},
     "output_type": "execute_result"
    }
   ],
   "source": [
    "energy_bin_edges"
   ]
  },
  {
   "cell_type": "code",
   "execution_count": 10,
   "metadata": {},
   "outputs": [],
   "source": [
    "analysis.dataset.init_binning(energy_bin_edges=energy_bin_edges,\n",
    "                              pixel_size=6.)"
   ]
  },
  {
   "cell_type": "code",
   "execution_count": 11,
   "metadata": {},
   "outputs": [
    {
     "data": {
      "application/vnd.jupyter.widget-view+json": {
       "model_id": "18ebc451e7344e719ea25b7326dab24f",
       "version_major": 2,
       "version_minor": 0
      },
      "text/plain": [
       "HBox(children=(IntProgress(value=0, description='Loop over time bins:', max=17, style=ProgressStyle(descriptio…"
      ]
     },
     "metadata": {},
     "output_type": "display_data"
    },
    {
     "data": {
      "application/vnd.jupyter.widget-view+json": {
       "model_id": "",
       "version_major": 2,
       "version_minor": 0
      },
      "text/plain": [
       "HBox(children=(IntProgress(value=0, max=1145), HTML(value='')))"
      ]
     },
     "metadata": {},
     "output_type": "display_data"
    },
    {
     "data": {
      "application/vnd.jupyter.widget-view+json": {
       "model_id": "",
       "version_major": 2,
       "version_minor": 0
      },
      "text/plain": [
       "HBox(children=(IntProgress(value=0, max=1145), HTML(value='')))"
      ]
     },
     "metadata": {},
     "output_type": "display_data"
    },
    {
     "data": {
      "application/vnd.jupyter.widget-view+json": {
       "model_id": "",
       "version_major": 2,
       "version_minor": 0
      },
      "text/plain": [
       "HBox(children=(IntProgress(value=0, max=1145), HTML(value='')))"
      ]
     },
     "metadata": {},
     "output_type": "display_data"
    },
    {
     "data": {
      "application/vnd.jupyter.widget-view+json": {
       "model_id": "",
       "version_major": 2,
       "version_minor": 0
      },
      "text/plain": [
       "HBox(children=(IntProgress(value=0, max=1145), HTML(value='')))"
      ]
     },
     "metadata": {},
     "output_type": "display_data"
    },
    {
     "data": {
      "application/vnd.jupyter.widget-view+json": {
       "model_id": "",
       "version_major": 2,
       "version_minor": 0
      },
      "text/plain": [
       "HBox(children=(IntProgress(value=0, max=1145), HTML(value='')))"
      ]
     },
     "metadata": {},
     "output_type": "display_data"
    },
    {
     "data": {
      "application/vnd.jupyter.widget-view+json": {
       "model_id": "",
       "version_major": 2,
       "version_minor": 0
      },
      "text/plain": [
       "HBox(children=(IntProgress(value=0, max=1145), HTML(value='')))"
      ]
     },
     "metadata": {},
     "output_type": "display_data"
    },
    {
     "data": {
      "application/vnd.jupyter.widget-view+json": {
       "model_id": "",
       "version_major": 2,
       "version_minor": 0
      },
      "text/plain": [
       "HBox(children=(IntProgress(value=0, max=1145), HTML(value='')))"
      ]
     },
     "metadata": {},
     "output_type": "display_data"
    },
    {
     "data": {
      "application/vnd.jupyter.widget-view+json": {
       "model_id": "",
       "version_major": 2,
       "version_minor": 0
      },
      "text/plain": [
       "HBox(children=(IntProgress(value=0, max=1145), HTML(value='')))"
      ]
     },
     "metadata": {},
     "output_type": "display_data"
    },
    {
     "data": {
      "application/vnd.jupyter.widget-view+json": {
       "model_id": "",
       "version_major": 2,
       "version_minor": 0
      },
      "text/plain": [
       "HBox(children=(IntProgress(value=0, max=1145), HTML(value='')))"
      ]
     },
     "metadata": {},
     "output_type": "display_data"
    },
    {
     "data": {
      "application/vnd.jupyter.widget-view+json": {
       "model_id": "",
       "version_major": 2,
       "version_minor": 0
      },
      "text/plain": [
       "HBox(children=(IntProgress(value=0, max=1145), HTML(value='')))"
      ]
     },
     "metadata": {},
     "output_type": "display_data"
    },
    {
     "data": {
      "application/vnd.jupyter.widget-view+json": {
       "model_id": "",
       "version_major": 2,
       "version_minor": 0
      },
      "text/plain": [
       "HBox(children=(IntProgress(value=0, max=1145), HTML(value='')))"
      ]
     },
     "metadata": {},
     "output_type": "display_data"
    },
    {
     "data": {
      "application/vnd.jupyter.widget-view+json": {
       "model_id": "",
       "version_major": 2,
       "version_minor": 0
      },
      "text/plain": [
       "HBox(children=(IntProgress(value=0, max=1145), HTML(value='')))"
      ]
     },
     "metadata": {},
     "output_type": "display_data"
    },
    {
     "data": {
      "application/vnd.jupyter.widget-view+json": {
       "model_id": "",
       "version_major": 2,
       "version_minor": 0
      },
      "text/plain": [
       "HBox(children=(IntProgress(value=0, max=1145), HTML(value='')))"
      ]
     },
     "metadata": {},
     "output_type": "display_data"
    },
    {
     "data": {
      "application/vnd.jupyter.widget-view+json": {
       "model_id": "",
       "version_major": 2,
       "version_minor": 0
      },
      "text/plain": [
       "HBox(children=(IntProgress(value=0, max=1145), HTML(value='')))"
      ]
     },
     "metadata": {},
     "output_type": "display_data"
    },
    {
     "data": {
      "application/vnd.jupyter.widget-view+json": {
       "model_id": "",
       "version_major": 2,
       "version_minor": 0
      },
      "text/plain": [
       "HBox(children=(IntProgress(value=0, max=1145), HTML(value='')))"
      ]
     },
     "metadata": {},
     "output_type": "display_data"
    },
    {
     "data": {
      "application/vnd.jupyter.widget-view+json": {
       "model_id": "",
       "version_major": 2,
       "version_minor": 0
      },
      "text/plain": [
       "HBox(children=(IntProgress(value=0, max=1145), HTML(value='')))"
      ]
     },
     "metadata": {},
     "output_type": "display_data"
    },
    {
     "data": {
      "application/vnd.jupyter.widget-view+json": {
       "model_id": "",
       "version_major": 2,
       "version_minor": 0
      },
      "text/plain": [
       "HBox(children=(IntProgress(value=0, max=1145), HTML(value='')))"
      ]
     },
     "metadata": {},
     "output_type": "display_data"
    },
    {
     "name": "stdout",
     "output_type": "stream",
     "text": [
      "\n"
     ]
    }
   ],
   "source": [
    "analysis.dataset.get_binned_data()"
   ]
  },
  {
   "cell_type": "code",
   "execution_count": 12,
   "metadata": {},
   "outputs": [],
   "source": [
    "pointing = Pointing(dataset=analysis.dataset)"
   ]
  },
  {
   "cell_type": "code",
   "execution_count": 13,
   "metadata": {},
   "outputs": [
    {
     "data": {
      "text/plain": [
       "\"tracer = content['tracer']\\ntrac = content['trac']\\ntracer12 = (tracer[::2] + tracer[1::2])/2\""
      ]
     },
     "execution_count": 13,
     "metadata": {},
     "output_type": "execute_result"
    }
   ],
   "source": [
    "\"\"\"tracer = content['tracer']\n",
    "trac = content['trac']\n",
    "tracer12 = (tracer[::2] + tracer[1::2])/2\"\"\""
   ]
  },
  {
   "cell_type": "code",
   "execution_count": null,
   "metadata": {},
   "outputs": [],
   "source": []
  },
  {
   "cell_type": "code",
   "execution_count": null,
   "metadata": {},
   "outputs": [],
   "source": []
  },
  {
   "cell_type": "code",
   "execution_count": 14,
   "metadata": {},
   "outputs": [
    {
     "data": {
      "text/plain": [
       "\"PE_dir = 'data'\\nPE_filename = 'test_dataset_9det_PE0000-1000keV_EHCstandard.tra.gz'\\n    \\ntry:\\n    with np.load('tracer.npz') as content:\\n        tracer = content['tracer']\\n        trac = content['trac']\\nexcept:\\n    print('File tracer.npz not found, reading in PE events now ...')\\n    pe_data = COSIpy(PE_dir,PE_filename)\\n    pe_data.read_COSI_DataSet()\""
      ]
     },
     "execution_count": 14,
     "metadata": {},
     "output_type": "execute_result"
    }
   ],
   "source": [
    "\"\"\"PE_dir = 'data'\n",
    "PE_filename = 'test_dataset_9det_PE0000-1000keV_EHCstandard.tra.gz'\n",
    "    \n",
    "try:\n",
    "    with np.load('tracer.npz') as content:\n",
    "        tracer = content['tracer']\n",
    "        trac = content['trac']\n",
    "except:\n",
    "    print('File tracer.npz not found, reading in PE events now ...')\n",
    "    pe_data = COSIpy(PE_dir,PE_filename)\n",
    "    pe_data.read_COSI_DataSet()\"\"\""
   ]
  },
  {
   "cell_type": "code",
   "execution_count": 15,
   "metadata": {},
   "outputs": [
    {
     "data": {
      "text/plain": [
       "\"try:\\n    # histogramming PE data\\n    # note comment about time binning in BG case below:\\n    # to get the same time basis, we shift the pe_data time tags to the data set's\\n    trac = np.histogram(pe_data.dataset.data['TimeTags']-analysis.dataset.data['TimeTags'].min(),\\n                        bins=analysis.dataset.times.times_edges)\\n\\n    # normalising tracer to show variation around 1.0\\n    tracer = trac[0]/np.mean(trac[0])\\n\\n    # save tracer to file\\n    np.savez_compressed('tracer.npz',\\n                        tracer=tracer,\\n                        trac=trac)\\nexcept:\\n    print('Stuff already done')\""
      ]
     },
     "execution_count": 15,
     "metadata": {},
     "output_type": "execute_result"
    }
   ],
   "source": [
    "\"\"\"try:\n",
    "    # histogramming PE data\n",
    "    # note comment about time binning in BG case below:\n",
    "    # to get the same time basis, we shift the pe_data time tags to the data set's\n",
    "    trac = np.histogram(pe_data.dataset.data['TimeTags']-analysis.dataset.data['TimeTags'].min(),\n",
    "                        bins=analysis.dataset.times.times_edges)\n",
    "\n",
    "    # normalising tracer to show variation around 1.0\n",
    "    tracer = trac[0]/np.mean(trac[0])\n",
    "\n",
    "    # save tracer to file\n",
    "    np.savez_compressed('tracer.npz',\n",
    "                        tracer=tracer,\n",
    "                        trac=trac)\n",
    "except:\n",
    "    print('Stuff already done')\"\"\""
   ]
  },
  {
   "cell_type": "code",
   "execution_count": 16,
   "metadata": {},
   "outputs": [],
   "source": [
    "with np.load('/Users/thomassiegert/python/COSIpy/COSIpy/tracer.npz',allow_pickle=True) as content:\n",
    "    tracer = content['tracer']\n",
    "    trac = content['trac']"
   ]
  },
  {
   "cell_type": "code",
   "execution_count": 17,
   "metadata": {},
   "outputs": [
    {
     "data": {
      "text/plain": [
       "(24,)"
      ]
     },
     "execution_count": 17,
     "metadata": {},
     "output_type": "execute_result"
    }
   ],
   "source": [
    "tracer.shape"
   ]
  },
  {
   "cell_type": "code",
   "execution_count": 18,
   "metadata": {},
   "outputs": [
    {
     "data": {
      "text/plain": [
       "array([0.65410243, 0.67385153, 0.71441512, 0.78155742, 0.94248122,\n",
       "       1.19949406, 1.51705686, 1.79649855, 1.95832489, 1.91313224,\n",
       "       1.72878866, 1.42036767, 1.07397908, 0.90930086, 0.77281106,\n",
       "       0.7213936 , 0.68377958, 0.66407235, 0.65517246, 0.6544467 ,\n",
       "       0.65349762, 0.65029218, 0.64985486, 0.61132898])"
      ]
     },
     "execution_count": 18,
     "metadata": {},
     "output_type": "execute_result"
    }
   ],
   "source": [
    "tracer"
   ]
  },
  {
   "cell_type": "code",
   "execution_count": 19,
   "metadata": {},
   "outputs": [
    {
     "name": "stdout",
     "output_type": "stream",
     "text": [
      "Reading in flight-average background response for 6 deg CDS binning ...\n"
     ]
    }
   ],
   "source": [
    "background = BG(dataset=analysis.dataset,mode='default 6deg')"
   ]
  },
  {
   "cell_type": "code",
   "execution_count": 20,
   "metadata": {},
   "outputs": [
    {
     "data": {
      "text/plain": [
       "(8, 30, 1145)"
      ]
     },
     "execution_count": 20,
     "metadata": {},
     "output_type": "execute_result"
    }
   ],
   "source": [
    "background.bg_response.shape"
   ]
  },
  {
   "cell_type": "code",
   "execution_count": 21,
   "metadata": {},
   "outputs": [],
   "source": [
    "#background.make_bg_cuts([1,3,5,7,9,11,13,15,17,19,21,23,25])\n",
    "#background.make_bg_cuts(list(np.arange(24)+1))"
   ]
  },
  {
   "cell_type": "code",
   "execution_count": 22,
   "metadata": {},
   "outputs": [
    {
     "data": {
      "text/plain": [
       "array([1, 1, 1, 1, 1, 1, 1, 1, 1, 1, 1, 1, 1, 1, 1, 1, 1])"
      ]
     },
     "execution_count": 22,
     "metadata": {},
     "output_type": "execute_result"
    }
   ],
   "source": [
    "background.bg_cuts"
   ]
  },
  {
   "cell_type": "code",
   "execution_count": 23,
   "metadata": {},
   "outputs": [
    {
     "data": {
      "text/plain": [
       "array([1., 1., 1., 1., 1., 1., 1., 1., 1., 1., 1., 1., 1., 1., 1., 1., 1.])"
      ]
     },
     "execution_count": 23,
     "metadata": {},
     "output_type": "execute_result"
    }
   ],
   "source": [
    "background.tracer"
   ]
  },
  {
   "cell_type": "code",
   "execution_count": null,
   "metadata": {},
   "outputs": [],
   "source": []
  },
  {
   "cell_type": "code",
   "execution_count": 24,
   "metadata": {},
   "outputs": [
    {
     "data": {
      "image/png": "[encoded data removed]",
      "text/plain": [
       "<Figure size 1152x432 with 1 Axes>"
      ]
     },
     "metadata": {
      "needs_background": "light"
     },
     "output_type": "display_data"
    }
   ],
   "source": [
    "analysis.plot_elevation([-176],[-5],['Crab'])"
   ]
  },
  {
   "cell_type": "code",
   "execution_count": null,
   "metadata": {},
   "outputs": [],
   "source": []
  },
  {
   "cell_type": "code",
   "execution_count": null,
   "metadata": {},
   "outputs": [],
   "source": []
  },
  {
   "cell_type": "code",
   "execution_count": 25,
   "metadata": {},
   "outputs": [],
   "source": [
    "import response"
   ]
  },
  {
   "cell_type": "code",
   "execution_count": 26,
   "metadata": {},
   "outputs": [],
   "source": [
    "rsp = response.SkyResponse(filename='response/RegularResponseGrid_Continuum_10bins_v1.npz',pixel_size=6)"
   ]
  },
  {
   "cell_type": "code",
   "execution_count": 104,
   "metadata": {},
   "outputs": [],
   "source": [
    "rsp2 = response.SkyResponse(filename='response/RegularResponseGrid_v1.npz',pixel_size=5)"
   ]
  },
  {
   "cell_type": "code",
   "execution_count": null,
   "metadata": {},
   "outputs": [],
   "source": []
  },
  {
   "cell_type": "code",
   "execution_count": null,
   "metadata": {},
   "outputs": [],
   "source": []
  },
  {
   "cell_type": "code",
   "execution_count": 27,
   "metadata": {},
   "outputs": [
    {
     "data": {
      "text/plain": [
       "array([ 185. ,  272.5,  402.5,  500. ,  642.5,  942.5, 1385. , 2000. ])"
      ]
     },
     "execution_count": 27,
     "metadata": {},
     "output_type": "execute_result"
    }
   ],
   "source": [
    "analysis.dataset.energies.energy_bin_cen"
   ]
  },
  {
   "cell_type": "code",
   "execution_count": null,
   "metadata": {},
   "outputs": [],
   "source": []
  },
  {
   "cell_type": "code",
   "execution_count": 28,
   "metadata": {},
   "outputs": [
    {
     "name": "stdout",
     "output_type": "stream",
     "text": [
      "(30, 60, 30, 1145, 10, 10)\n",
      "Using only diagonal terms (???)\n",
      "(30, 60, 988)\n",
      "(30, 60, 988) 3\n",
      "(30, 60, 30, 1145, 10, 10)\n",
      "Using only diagonal terms (???)\n",
      "(30, 60, 1953)\n",
      "(30, 60, 1953) 3\n",
      "(30, 60, 30, 1145, 10, 10)\n",
      "Using only diagonal terms (???)\n",
      "(30, 60, 2525)\n",
      "(30, 60, 2525) 3\n",
      "(30, 60, 30, 1145, 10, 10)\n",
      "Using only diagonal terms (???)\n",
      "(30, 60, 2561)\n",
      "(30, 60, 2561) 3\n",
      "(30, 60, 30, 1145, 10, 10)\n",
      "Using only diagonal terms (???)\n",
      "(30, 60, 3037)\n",
      "(30, 60, 3037) 3\n",
      "(30, 60, 30, 1145, 10, 10)\n",
      "Using only diagonal terms (???)\n",
      "(30, 60, 3203)\n",
      "(30, 60, 3203) 3\n",
      "(30, 60, 30, 1145, 10, 10)\n",
      "Using only diagonal terms (???)\n",
      "(30, 60, 3559)\n",
      "(30, 60, 3559) 3\n",
      "(30, 60, 30, 1145, 10, 10)\n",
      "Using only diagonal terms (???)\n",
      "(30, 60, 3535)\n",
      "(30, 60, 3535) 3\n"
     ]
    }
   ],
   "source": [
    "rsp.calculate_PS_response(analysis.dataset,\n",
    "                          pointing,184.56-360,-5.78,1e-2,\n",
    "                          background=background,\n",
    "                          pixel_size=6.)"
   ]
  },
  {
   "cell_type": "code",
   "execution_count": 29,
   "metadata": {},
   "outputs": [
    {
     "data": {
      "text/plain": [
       "(30, 60, 30, 1145, 10, 10)"
      ]
     },
     "execution_count": 29,
     "metadata": {},
     "output_type": "execute_result"
    }
   ],
   "source": [
    "rsp.rsp.response_grid_normed.shape"
   ]
  },
  {
   "cell_type": "code",
   "execution_count": null,
   "metadata": {},
   "outputs": [],
   "source": []
  },
  {
   "cell_type": "code",
   "execution_count": 30,
   "metadata": {},
   "outputs": [],
   "source": [
    "from fit import fit"
   ]
  },
  {
   "cell_type": "code",
   "execution_count": 31,
   "metadata": {},
   "outputs": [],
   "source": [
    "result = fit(analysis.dataset,\n",
    "             pointing,\n",
    "             rsp,\n",
    "             background,\n",
    "             priors=np.array([[1e4,1e8],[0,0.0001]]),\n",
    "             verbose=True)"
   ]
  },
  {
   "cell_type": "code",
   "execution_count": 32,
   "metadata": {},
   "outputs": [],
   "source": [
    "if np.any(np.array([[1e4,1e8],[0,0.1]]) == None):\n",
    "    print(1)"
   ]
  },
  {
   "cell_type": "code",
   "execution_count": 33,
   "metadata": {
    "scrolled": false
   },
   "outputs": [
    {
     "data": {
      "application/vnd.jupyter.widget-view+json": {
       "model_id": "6ab12bd5e0d84429bb7dcbc8095531fb",
       "version_major": 2,
       "version_minor": 0
      },
      "text/plain": [
       "HBox(children=(IntProgress(value=0, description='Loop over energy bins:', max=8, style=ProgressStyle(descripti…"
      ]
     },
     "metadata": {},
     "output_type": "display_data"
    },
    {
     "name": "stdout",
     "output_type": "stream",
     "text": [
      "Start optimising energy bin 1/8...\n",
      "\n",
      "Energy range: 150-220 keV ...\n",
      "Start optimising energy bin 2/8...\n",
      "\n",
      "Energy range: 220-325 keV ...\n",
      "Start optimising energy bin 3/8...\n",
      "\n",
      "Energy range: 325-480 keV ...\n",
      "Start optimising energy bin 4/8...\n",
      "\n",
      "Energy range: 480-520 keV ...\n",
      "Start optimising energy bin 5/8...\n",
      "\n",
      "Energy range: 520-765 keV ...\n",
      "Start optimising energy bin 6/8...\n",
      "\n",
      "Energy range: 765-1120 keV ...\n",
      "Start optimising energy bin 7/8...\n",
      "\n",
      "Energy range: 1120-1650 keV ...\n",
      "Start optimising energy bin 8/8...\n",
      "\n",
      "Energy range: 1650-2350 keV ...\n",
      "\n",
      "Initial log joint probability = -5.00017e+07\n",
      "    Iter      log prob        ||dx||      ||grad||       alpha      alpha0  # evals  Notes \n",
      "       8      -3004.49    0.00104477    0.00312152           1           1       24   \n",
      "Optimization terminated normally: \n",
      "  Convergence detected: relative gradient magnitude is below tolerance\n",
      "Initial log joint probability = -5.00067e+07\n",
      "    Iter      log prob        ||dx||      ||grad||       alpha      alpha0  # evals  Notes \n",
      "       7      -9109.13   0.000138957     0.0034494      0.9898      0.9898       18   \n",
      "Optimization terminated normally: \n",
      "  Convergence detected: relative gradient magnitude is below tolerance\n",
      "Initial log joint probability = -5.00088e+07\n",
      "    Iter      log prob        ||dx||      ||grad||       alpha      alpha0  # evals  Notes \n",
      "       3      -11625.7     0.0204491     0.0448542      0.1571           1       17   \n",
      "Optimization terminated normally: \n",
      "  Convergence detected: relative gradient magnitude is below tolerance\n",
      "Initial log joint probability = -5.00025e+07\n",
      "    Iter      log prob        ||dx||      ||grad||       alpha      alpha0  # evals  Notes \n",
      "       6      -3527.11    0.00101062    0.00107552           1           1       15   \n",
      "Optimization terminated normally: \n",
      "  Convergence detected: relative gradient magnitude is below tolerance\n",
      "Initial log joint probability = -5.00073e+07\n",
      "    Iter      log prob        ||dx||      ||grad||       alpha      alpha0  # evals  Notes \n",
      "       6       -8658.3   0.000545506    0.00351154           1           1       18   \n",
      "Optimization terminated normally: \n",
      "  Convergence detected: relative gradient magnitude is below tolerance\n",
      "Initial log joint probability = -5.00052e+07\n",
      "    Iter      log prob        ||dx||      ||grad||       alpha      alpha0  # evals  Notes \n",
      "       6      -5981.02   0.000110181   0.000113241           1           1       17   \n",
      "Optimization terminated normally: \n",
      "  Convergence detected: relative gradient magnitude is below tolerance\n",
      "Initial log joint probability = -5.00035e+07\n",
      "    Iter      log prob        ||dx||      ||grad||       alpha      alpha0  # evals  Notes \n",
      "       3      -3959.58     0.0242028    0.00227459       0.309           1       13   \n",
      "Optimization terminated normally: \n",
      "  Convergence detected: relative gradient magnitude is below tolerance\n",
      "Initial log joint probability = -5.00013e+07\n",
      "    Iter      log prob        ||dx||      ||grad||       alpha      alpha0  # evals  Notes \n",
      "       8      -1496.68   0.000345091   0.000109325           1           1       15   \n",
      "Optimization terminated normally: \n",
      "  Convergence detected: relative gradient magnitude is below tolerance\n"
     ]
    }
   ],
   "source": [
    "result.MAP_solution()"
   ]
  },
  {
   "cell_type": "code",
   "execution_count": 34,
   "metadata": {},
   "outputs": [
    {
     "data": {
      "text/plain": [
       "array([3.66720857e-01, 1.40959535e-01, 3.53818548e-02, 8.08539727e-02,\n",
       "       6.57033789e-03, 1.71244976e-03, 4.06433850e-04, 9.27378404e-05])"
      ]
     },
     "execution_count": 34,
     "metadata": {},
     "output_type": "execute_result"
    }
   ],
   "source": [
    "result.diff_flux_map"
   ]
  },
  {
   "cell_type": "code",
   "execution_count": 35,
   "metadata": {},
   "outputs": [
    {
     "data": {
      "text/plain": [
       "[<matplotlib.lines.Line2D at 0x13bf0cf10>]"
      ]
     },
     "execution_count": 35,
     "metadata": {},
     "output_type": "execute_result"
    },
    {
     "data": {
      "image/png": "[encoded data removed]",
      "text/plain": [
       "<Figure size 576x432 with 1 Axes>"
      ]
     },
     "metadata": {
      "needs_background": "light"
     },
     "output_type": "display_data"
    }
   ],
   "source": [
    "plt.errorbar(analysis.dataset.energies.energy_bin_cen,\n",
    "             result.diff_flux_map*0.011,#/analysis.dataset.energies.energy_bin_wid/2,\n",
    "             xerr=analysis.dataset.energies.energy_bin_wid,\n",
    "             yerr=np.repeat(0,len(analysis.dataset.energies.energy_bin_cen)),fmt='o-')\n",
    "\n",
    "plt.xscale('log')\n",
    "plt.yscale('log')\n",
    "\n",
    "x = np.logspace(2,np.log10(2500),100)\n",
    "plt.plot(x,9.1e-4*(x/100)**(-2.17))"
   ]
  },
  {
   "cell_type": "code",
   "execution_count": 36,
   "metadata": {
    "scrolled": false
   },
   "outputs": [
    {
     "data": {
      "application/vnd.jupyter.widget-view+json": {
       "model_id": "6dff0345629f44c682c689c9a627011e",
       "version_major": 2,
       "version_minor": 0
      },
      "text/plain": [
       "HBox(children=(IntProgress(value=0, description='Loop over energy bins:', max=8, style=ProgressStyle(descripti…"
      ]
     },
     "metadata": {},
     "output_type": "display_data"
    },
    {
     "name": "stdout",
     "output_type": "stream",
     "text": [
      "###################################################################\n",
      "\n",
      "Start fitting energy bin 1/8...\n",
      "\n",
      "Energy range: 150-220 keV ...\n"
     ]
    },
    {
     "name": "stderr",
     "output_type": "stream",
     "text": [
      "WARNING:pystan:Maximum (flat) parameter count (1000) exceeded: skipping diagnostic tests for n_eff and Rhat.\n",
      "To run all diagnostics call pystan.check_hmc_diagnostics(fit)\n"
     ]
    },
    {
     "name": "stdout",
     "output_type": "stream",
     "text": [
      "Summary for energy bin 1/8:\n",
      "\n",
      "Inference for Stan model: anon_model_666f42d8e949bfaf2d5a9470c57200bd.\n",
      "1 chains, each with iter=100; warmup=50; thin=1; \n",
      "post-warmup draws per chain=50, total post-warmup draws=50.\n",
      "\n",
      "          mean se_mean     sd   2.5%    25%    50%    75%  97.5%  n_eff   Rhat\n",
      "flux[1] 2532.3   13.12 120.04 2299.4 2460.1 2543.6 2616.8 2733.3     84    1.0\n",
      "Abg[1]  9.0e-4  9.6e-6 5.9e-5 7.9e-4 8.5e-4 8.9e-4 9.5e-4 1.0e-3     38   1.05\n",
      "\n",
      "Samples were drawn using NUTS at Sun Nov 22 22:28:26 2020.\n",
      "For each parameter, n_eff is a crude measure of effective sample size,\n",
      "and Rhat is the potential scale reduction factor on split chains (at \n",
      "convergence, Rhat=1).\n",
      "###################################################################\n",
      "###################################################################\n",
      "\n",
      "Start fitting energy bin 2/8...\n",
      "\n",
      "Energy range: 220-325 keV ...\n"
     ]
    },
    {
     "name": "stderr",
     "output_type": "stream",
     "text": [
      "WARNING:pystan:Maximum (flat) parameter count (1000) exceeded: skipping diagnostic tests for n_eff and Rhat.\n",
      "To run all diagnostics call pystan.check_hmc_diagnostics(fit)\n"
     ]
    },
    {
     "name": "stdout",
     "output_type": "stream",
     "text": [
      "Summary for energy bin 2/8:\n",
      "\n",
      "Inference for Stan model: anon_model_666f42d8e949bfaf2d5a9470c57200bd.\n",
      "1 chains, each with iter=100; warmup=50; thin=1; \n",
      "post-warmup draws per chain=50, total post-warmup draws=50.\n",
      "\n",
      "          mean se_mean     sd   2.5%    25%    50%    75%  97.5%  n_eff   Rhat\n",
      "flux[1] 1456.3    7.82  34.87 1379.9 1429.0 1463.4 1482.7 1513.5     20   0.98\n",
      "Abg[1]  1.1e-3  2.3e-5 6.4e-5 1.0e-3 1.1e-3 1.1e-3 1.1e-3 1.2e-3      8   1.43\n",
      "\n",
      "Samples were drawn using NUTS at Sun Nov 22 22:28:29 2020.\n",
      "For each parameter, n_eff is a crude measure of effective sample size,\n",
      "and Rhat is the potential scale reduction factor on split chains (at \n",
      "convergence, Rhat=1).\n"
     ]
    },
    {
     "name": "stderr",
     "output_type": "stream",
     "text": [
      "WARNING:pystan:Maximum (flat) parameter count (1000) exceeded: skipping diagnostic tests for n_eff and Rhat.\n",
      "To run all diagnostics call pystan.check_hmc_diagnostics(fit)\n"
     ]
    },
    {
     "name": "stdout",
     "output_type": "stream",
     "text": [
      "###################################################################\n",
      "###################################################################\n",
      "\n",
      "Start fitting energy bin 3/8...\n",
      "\n",
      "Energy range: 325-480 keV ...\n",
      "Summary for energy bin 3/8:\n",
      "\n",
      "Inference for Stan model: anon_model_666f42d8e949bfaf2d5a9470c57200bd.\n",
      "1 chains, each with iter=100; warmup=50; thin=1; \n",
      "post-warmup draws per chain=50, total post-warmup draws=50.\n",
      "\n",
      "          mean se_mean     sd   2.5%    25%    50%    75%  97.5%  n_eff   Rhat\n",
      "flux[1] 538.98    1.52   11.2 519.69 530.52 537.74 549.06 558.84     55   1.04\n",
      "Abg[1]  1.2e-3  2.1e-5 6.9e-5 1.0e-3 1.1e-3 1.2e-3 1.2e-3 1.3e-3     11   1.11\n",
      "\n",
      "Samples were drawn using NUTS at Sun Nov 22 22:28:33 2020.\n",
      "For each parameter, n_eff is a crude measure of effective sample size,\n",
      "and Rhat is the potential scale reduction factor on split chains (at \n",
      "convergence, Rhat=1).\n"
     ]
    },
    {
     "name": "stderr",
     "output_type": "stream",
     "text": [
      "WARNING:pystan:Maximum (flat) parameter count (1000) exceeded: skipping diagnostic tests for n_eff and Rhat.\n",
      "To run all diagnostics call pystan.check_hmc_diagnostics(fit)\n"
     ]
    },
    {
     "name": "stdout",
     "output_type": "stream",
     "text": [
      "###################################################################\n",
      "###################################################################\n",
      "\n",
      "Start fitting energy bin 4/8...\n",
      "\n",
      "Energy range: 480-520 keV ...\n",
      "Summary for energy bin 4/8:\n",
      "\n",
      "Inference for Stan model: anon_model_666f42d8e949bfaf2d5a9470c57200bd.\n",
      "1 chains, each with iter=100; warmup=50; thin=1; \n",
      "post-warmup draws per chain=50, total post-warmup draws=50.\n",
      "\n",
      "          mean se_mean     sd   2.5%    25%    50%    75%  97.5%  n_eff   Rhat\n",
      "flux[1] 318.56    3.27  16.19 283.41 306.92  317.5 333.15  342.2     24   0.99\n",
      "Abg[1]  7.2e-4  1.3e-5 6.4e-5 5.9e-4 6.8e-4 7.3e-4 7.6e-4 8.3e-4     24   1.14\n",
      "\n",
      "Samples were drawn using NUTS at Sun Nov 22 22:28:38 2020.\n",
      "For each parameter, n_eff is a crude measure of effective sample size,\n",
      "and Rhat is the potential scale reduction factor on split chains (at \n",
      "convergence, Rhat=1).\n",
      "###################################################################\n",
      "###################################################################\n",
      "\n",
      "Start fitting energy bin 5/8...\n",
      "\n",
      "Energy range: 520-765 keV ...\n"
     ]
    },
    {
     "name": "stderr",
     "output_type": "stream",
     "text": [
      "WARNING:pystan:Maximum (flat) parameter count (1000) exceeded: skipping diagnostic tests for n_eff and Rhat.\n",
      "To run all diagnostics call pystan.check_hmc_diagnostics(fit)\n"
     ]
    },
    {
     "name": "stdout",
     "output_type": "stream",
     "text": [
      "Summary for energy bin 5/8:\n",
      "\n",
      "Inference for Stan model: anon_model_666f42d8e949bfaf2d5a9470c57200bd.\n",
      "1 chains, each with iter=100; warmup=50; thin=1; \n",
      "post-warmup draws per chain=50, total post-warmup draws=50.\n",
      "\n",
      "          mean se_mean     sd   2.5%    25%    50%    75%  97.5%  n_eff   Rhat\n",
      "flux[1] 159.21     0.5   4.13 151.57 156.47 158.24 162.24 167.99     68   0.99\n",
      "Abg[1]  7.6e-4  1.4e-5 5.6e-5 6.4e-4 7.4e-4 7.7e-4 8.0e-4 8.9e-4     17   1.16\n",
      "\n",
      "Samples were drawn using NUTS at Sun Nov 22 22:28:44 2020.\n",
      "For each parameter, n_eff is a crude measure of effective sample size,\n",
      "and Rhat is the potential scale reduction factor on split chains (at \n",
      "convergence, Rhat=1).\n"
     ]
    },
    {
     "name": "stderr",
     "output_type": "stream",
     "text": [
      "WARNING:pystan:Maximum (flat) parameter count (1000) exceeded: skipping diagnostic tests for n_eff and Rhat.\n",
      "To run all diagnostics call pystan.check_hmc_diagnostics(fit)\n"
     ]
    },
    {
     "name": "stdout",
     "output_type": "stream",
     "text": [
      "###################################################################\n",
      "###################################################################\n",
      "\n",
      "Start fitting energy bin 6/8...\n",
      "\n",
      "Energy range: 765-1120 keV ...\n",
      "Summary for energy bin 6/8:\n",
      "\n",
      "Inference for Stan model: anon_model_666f42d8e949bfaf2d5a9470c57200bd.\n",
      "1 chains, each with iter=100; warmup=50; thin=1; \n",
      "post-warmup draws per chain=50, total post-warmup draws=50.\n",
      "\n",
      "          mean se_mean     sd   2.5%    25%    50%    75%  97.5%  n_eff   Rhat\n",
      "flux[1]  59.92    0.34   2.29  55.23  58.37  59.54  61.57  63.93     44   0.99\n",
      "Abg[1]  5.6e-4  1.3e-5 5.7e-5 4.8e-4 5.1e-4 5.6e-4 6.0e-4 6.8e-4     21   0.99\n",
      "\n",
      "Samples were drawn using NUTS at Sun Nov 22 22:28:51 2020.\n",
      "For each parameter, n_eff is a crude measure of effective sample size,\n",
      "and Rhat is the potential scale reduction factor on split chains (at \n",
      "convergence, Rhat=1).\n"
     ]
    },
    {
     "name": "stderr",
     "output_type": "stream",
     "text": [
      "WARNING:pystan:Maximum (flat) parameter count (1000) exceeded: skipping diagnostic tests for n_eff and Rhat.\n",
      "To run all diagnostics call pystan.check_hmc_diagnostics(fit)\n"
     ]
    },
    {
     "name": "stdout",
     "output_type": "stream",
     "text": [
      "###################################################################\n",
      "###################################################################\n",
      "\n",
      "Start fitting energy bin 7/8...\n",
      "\n",
      "Energy range: 1120-1650 keV ...\n",
      "Summary for energy bin 7/8:\n",
      "\n",
      "Inference for Stan model: anon_model_666f42d8e949bfaf2d5a9470c57200bd.\n",
      "1 chains, each with iter=100; warmup=50; thin=1; \n",
      "post-warmup draws per chain=50, total post-warmup draws=50.\n",
      "\n",
      "          mean se_mean     sd   2.5%    25%    50%    75%  97.5%  n_eff   Rhat\n",
      "flux[1]  21.57    0.06   0.68  20.23  21.04  21.64  22.07  22.77    131   0.99\n",
      "Abg[1]  4.8e-4  1.3e-5 5.9e-5 3.6e-4 4.4e-4 4.8e-4 5.1e-4 6.0e-4     21    1.0\n",
      "\n",
      "Samples were drawn using NUTS at Sun Nov 22 22:28:57 2020.\n",
      "For each parameter, n_eff is a crude measure of effective sample size,\n",
      "and Rhat is the potential scale reduction factor on split chains (at \n",
      "convergence, Rhat=1).\n",
      "###################################################################\n",
      "###################################################################\n",
      "\n",
      "Start fitting energy bin 8/8...\n",
      "\n",
      "Energy range: 1650-2350 keV ...\n"
     ]
    },
    {
     "name": "stderr",
     "output_type": "stream",
     "text": [
      "WARNING:pystan:Maximum (flat) parameter count (1000) exceeded: skipping diagnostic tests for n_eff and Rhat.\n",
      "To run all diagnostics call pystan.check_hmc_diagnostics(fit)\n"
     ]
    },
    {
     "name": "stdout",
     "output_type": "stream",
     "text": [
      "Summary for energy bin 8/8:\n",
      "\n",
      "Inference for Stan model: anon_model_666f42d8e949bfaf2d5a9470c57200bd.\n",
      "1 chains, each with iter=100; warmup=50; thin=1; \n",
      "post-warmup draws per chain=50, total post-warmup draws=50.\n",
      "\n",
      "          mean se_mean     sd   2.5%    25%    50%    75%  97.5%  n_eff   Rhat\n",
      "flux[1]   6.58    0.13   0.54   5.51   6.24   6.58   7.01   7.76     18   1.02\n",
      "Abg[1]  2.9e-4  1.1e-5 4.8e-5 1.9e-4 2.5e-4 2.8e-4 3.2e-4 3.9e-4     21   0.98\n",
      "\n",
      "Samples were drawn using NUTS at Sun Nov 22 22:29:04 2020.\n",
      "For each parameter, n_eff is a crude measure of effective sample size,\n",
      "and Rhat is the potential scale reduction factor on split chains (at \n",
      "convergence, Rhat=1).\n",
      "###################################################################\n",
      "\n",
      "\n",
      "Gradient evaluation took 0.001631 seconds\n",
      "1000 transitions using 10 leapfrog steps per transition would take 16.31 seconds.\n",
      "Adjust your expectations accordingly!\n",
      "\n",
      "\n",
      "WARNING: There aren't enough warmup iterations to fit the\n",
      "         three stages of adaptation as currently configured.\n",
      "         Reducing each adaptation stage to 15%/75%/10% of\n",
      "         the given number of warmup iterations:\n",
      "           init_buffer = 7\n",
      "           adapt_window = 38\n",
      "           term_buffer = 5\n",
      "\n",
      "Iteration:  1 / 100 [  1%]  (Warmup)\n",
      "Iteration: 10 / 100 [ 10%]  (Warmup)\n",
      "Iteration: 20 / 100 [ 20%]  (Warmup)\n",
      "Iteration: 30 / 100 [ 30%]  (Warmup)\n",
      "Iteration: 40 / 100 [ 40%]  (Warmup)\n",
      "Iteration: 50 / 100 [ 50%]  (Warmup)\n",
      "Iteration: 51 / 100 [ 51%]  (Sampling)\n",
      "Iteration: 60 / 100 [ 60%]  (Sampling)\n",
      "Iteration: 70 / 100 [ 70%]  (Sampling)\n",
      "Iteration: 80 / 100 [ 80%]  (Sampling)\n",
      "Iteration: 90 / 100 [ 90%]  (Sampling)\n",
      "Iteration: 100 / 100 [100%]  (Sampling)\n",
      "\n",
      " Elapsed Time: 0.55787 seconds (Warm-up)\n",
      "               0.630232 seconds (Sampling)\n",
      "               1.1881 seconds (Total)\n",
      "\n",
      "\n",
      "Gradient evaluation took 0.003371 seconds\n",
      "1000 transitions using 10 leapfrog steps per transition would take 33.71 seconds.\n",
      "Adjust your expectations accordingly!\n",
      "\n",
      "\n",
      "WARNING: There aren't enough warmup iterations to fit the\n",
      "         three stages of adaptation as currently configured.\n",
      "         Reducing each adaptation stage to 15%/75%/10% of\n",
      "         the given number of warmup iterations:\n",
      "           init_buffer = 7\n",
      "           adapt_window = 38\n",
      "           term_buffer = 5\n",
      "\n",
      "Iteration:  1 / 100 [  1%]  (Warmup)\n",
      "Iteration: 10 / 100 [ 10%]  (Warmup)\n",
      "Iteration: 20 / 100 [ 20%]  (Warmup)\n",
      "Iteration: 30 / 100 [ 30%]  (Warmup)\n",
      "Iteration: 40 / 100 [ 40%]  (Warmup)\n",
      "Iteration: 50 / 100 [ 50%]  (Warmup)\n",
      "Iteration: 51 / 100 [ 51%]  (Sampling)\n",
      "Iteration: 60 / 100 [ 60%]  (Sampling)\n",
      "Iteration: 70 / 100 [ 70%]  (Sampling)\n",
      "Iteration: 80 / 100 [ 80%]  (Sampling)\n",
      "Iteration: 90 / 100 [ 90%]  (Sampling)\n",
      "Iteration: 100 / 100 [100%]  (Sampling)\n",
      "\n",
      " Elapsed Time: 0.969823 seconds (Warm-up)\n",
      "               1.77604 seconds (Sampling)\n",
      "               2.74586 seconds (Total)\n",
      "\n",
      "\n",
      "Gradient evaluation took 0.00441 seconds\n",
      "1000 transitions using 10 leapfrog steps per transition would take 44.1 seconds.\n",
      "Adjust your expectations accordingly!\n",
      "\n",
      "\n",
      "WARNING: There aren't enough warmup iterations to fit the\n",
      "         three stages of adaptation as currently configured.\n",
      "         Reducing each adaptation stage to 15%/75%/10% of\n",
      "         the given number of warmup iterations:\n",
      "           init_buffer = 7\n",
      "           adapt_window = 38\n",
      "           term_buffer = 5\n",
      "\n",
      "Iteration:  1 / 100 [  1%]  (Warmup)\n",
      "Iteration: 10 / 100 [ 10%]  (Warmup)\n",
      "Iteration: 20 / 100 [ 20%]  (Warmup)\n",
      "Iteration: 30 / 100 [ 30%]  (Warmup)\n",
      "Iteration: 40 / 100 [ 40%]  (Warmup)\n",
      "Iteration: 50 / 100 [ 50%]  (Warmup)\n",
      "Iteration: 51 / 100 [ 51%]  (Sampling)\n",
      "Iteration: 60 / 100 [ 60%]  (Sampling)\n",
      "Iteration: 70 / 100 [ 70%]  (Sampling)\n",
      "Iteration: 80 / 100 [ 80%]  (Sampling)\n",
      "Iteration: 90 / 100 [ 90%]  (Sampling)\n",
      "Iteration: 100 / 100 [100%]  (Sampling)\n",
      "\n",
      " Elapsed Time: 1.27939 seconds (Warm-up)\n",
      "               2.2239 seconds (Sampling)\n",
      "               3.50329 seconds (Total)\n",
      "\n",
      "\n",
      "Gradient evaluation took 0.004093 seconds\n",
      "1000 transitions using 10 leapfrog steps per transition would take 40.93 seconds.\n",
      "Adjust your expectations accordingly!\n",
      "\n",
      "\n",
      "WARNING: There aren't enough warmup iterations to fit the\n",
      "         three stages of adaptation as currently configured.\n",
      "         Reducing each adaptation stage to 15%/75%/10% of\n",
      "         the given number of warmup iterations:\n",
      "           init_buffer = 7\n",
      "           adapt_window = 38\n",
      "           term_buffer = 5\n",
      "\n",
      "Iteration:  1 / 100 [  1%]  (Warmup)\n",
      "Iteration: 10 / 100 [ 10%]  (Warmup)\n",
      "Iteration: 20 / 100 [ 20%]  (Warmup)\n",
      "Iteration: 30 / 100 [ 30%]  (Warmup)\n",
      "Iteration: 40 / 100 [ 40%]  (Warmup)\n",
      "Iteration: 50 / 100 [ 50%]  (Warmup)\n",
      "Iteration: 51 / 100 [ 51%]  (Sampling)\n",
      "Iteration: 60 / 100 [ 60%]  (Sampling)\n",
      "Iteration: 70 / 100 [ 70%]  (Sampling)\n",
      "Iteration: 80 / 100 [ 80%]  (Sampling)\n",
      "Iteration: 90 / 100 [ 90%]  (Sampling)\n",
      "Iteration: 100 / 100 [100%]  (Sampling)\n",
      "\n",
      " Elapsed Time: 1.49272 seconds (Warm-up)\n",
      "               1.79005 seconds (Sampling)\n",
      "               3.28277 seconds (Total)\n",
      "\n",
      "\n",
      "Gradient evaluation took 0.004724 seconds\n",
      "1000 transitions using 10 leapfrog steps per transition would take 47.24 seconds.\n",
      "Adjust your expectations accordingly!\n",
      "\n",
      "\n",
      "WARNING: There aren't enough warmup iterations to fit the\n",
      "         three stages of adaptation as currently configured.\n",
      "         Reducing each adaptation stage to 15%/75%/10% of\n",
      "         the given number of warmup iterations:\n",
      "           init_buffer = 7\n",
      "           adapt_window = 38\n",
      "           term_buffer = 5\n",
      "\n",
      "Iteration:  1 / 100 [  1%]  (Warmup)\n",
      "Iteration: 10 / 100 [ 10%]  (Warmup)\n",
      "Iteration: 20 / 100 [ 20%]  (Warmup)\n",
      "Iteration: 30 / 100 [ 30%]  (Warmup)\n",
      "Iteration: 40 / 100 [ 40%]  (Warmup)\n",
      "Iteration: 50 / 100 [ 50%]  (Warmup)\n",
      "Iteration: 51 / 100 [ 51%]  (Sampling)\n",
      "Iteration: 60 / 100 [ 60%]  (Sampling)\n",
      "Iteration: 70 / 100 [ 70%]  (Sampling)\n",
      "Iteration: 80 / 100 [ 80%]  (Sampling)\n",
      "Iteration: 90 / 100 [ 90%]  (Sampling)\n",
      "Iteration: 100 / 100 [100%]  (Sampling)\n",
      "\n",
      " Elapsed Time: 2.19329 seconds (Warm-up)\n",
      "               2.98471 seconds (Sampling)\n",
      "               5.178 seconds (Total)\n",
      "\n",
      "\n",
      "Gradient evaluation took 0.004739 seconds\n",
      "1000 transitions using 10 leapfrog steps per transition would take 47.39 seconds.\n",
      "Adjust your expectations accordingly!\n",
      "\n",
      "\n",
      "WARNING: There aren't enough warmup iterations to fit the\n",
      "         three stages of adaptation as currently configured.\n",
      "         Reducing each adaptation stage to 15%/75%/10% of\n",
      "         the given number of warmup iterations:\n",
      "           init_buffer = 7\n",
      "           adapt_window = 38\n",
      "           term_buffer = 5\n",
      "\n",
      "Iteration:  1 / 100 [  1%]  (Warmup)\n",
      "Iteration: 10 / 100 [ 10%]  (Warmup)\n",
      "Iteration: 20 / 100 [ 20%]  (Warmup)\n",
      "Iteration: 30 / 100 [ 30%]  (Warmup)\n",
      "Iteration: 40 / 100 [ 40%]  (Warmup)\n",
      "Iteration: 50 / 100 [ 50%]  (Warmup)\n",
      "Iteration: 51 / 100 [ 51%]  (Sampling)\n",
      "Iteration: 60 / 100 [ 60%]  (Sampling)\n",
      "Iteration: 70 / 100 [ 70%]  (Sampling)\n",
      "Iteration: 80 / 100 [ 80%]  (Sampling)\n",
      "Iteration: 90 / 100 [ 90%]  (Sampling)\n",
      "Iteration: 100 / 100 [100%]  (Sampling)\n",
      "\n",
      " Elapsed Time: 3.53398 seconds (Warm-up)\n",
      "               2.49578 seconds (Sampling)\n",
      "               6.02976 seconds (Total)\n",
      "\n",
      "\n",
      "Gradient evaluation took 0.005393 seconds\n",
      "1000 transitions using 10 leapfrog steps per transition would take 53.93 seconds.\n",
      "Adjust your expectations accordingly!\n",
      "\n",
      "\n",
      "WARNING: There aren't enough warmup iterations to fit the\n",
      "         three stages of adaptation as currently configured.\n",
      "         Reducing each adaptation stage to 15%/75%/10% of\n",
      "         the given number of warmup iterations:\n",
      "           init_buffer = 7\n",
      "           adapt_window = 38\n",
      "           term_buffer = 5\n",
      "\n",
      "Iteration:  1 / 100 [  1%]  (Warmup)\n",
      "Iteration: 10 / 100 [ 10%]  (Warmup)\n",
      "Iteration: 20 / 100 [ 20%]  (Warmup)\n",
      "Iteration: 30 / 100 [ 30%]  (Warmup)\n",
      "Iteration: 40 / 100 [ 40%]  (Warmup)\n",
      "Iteration: 50 / 100 [ 50%]  (Warmup)\n",
      "Iteration: 51 / 100 [ 51%]  (Sampling)\n",
      "Iteration: 60 / 100 [ 60%]  (Sampling)\n",
      "Iteration: 70 / 100 [ 70%]  (Sampling)\n",
      "Iteration: 80 / 100 [ 80%]  (Sampling)\n",
      "Iteration: 90 / 100 [ 90%]  (Sampling)\n",
      "Iteration: 100 / 100 [100%]  (Sampling)\n",
      "\n",
      " Elapsed Time: 1.77602 seconds (Warm-up)\n",
      "               2.63193 seconds (Sampling)\n",
      "               4.40795 seconds (Total)\n",
      "\n",
      "\n",
      "Gradient evaluation took 0.005781 seconds\n",
      "1000 transitions using 10 leapfrog steps per transition would take 57.81 seconds.\n",
      "Adjust your expectations accordingly!\n",
      "\n",
      "\n",
      "WARNING: There aren't enough warmup iterations to fit the\n",
      "         three stages of adaptation as currently configured.\n",
      "         Reducing each adaptation stage to 15%/75%/10% of\n",
      "         the given number of warmup iterations:\n",
      "           init_buffer = 7\n",
      "           adapt_window = 38\n",
      "           term_buffer = 5\n",
      "\n",
      "Iteration:  1 / 100 [  1%]  (Warmup)\n",
      "Iteration: 10 / 100 [ 10%]  (Warmup)\n",
      "Iteration: 20 / 100 [ 20%]  (Warmup)\n",
      "Iteration: 30 / 100 [ 30%]  (Warmup)\n",
      "Iteration: 40 / 100 [ 40%]  (Warmup)\n",
      "Iteration: 50 / 100 [ 50%]  (Warmup)\n",
      "Iteration: 51 / 100 [ 51%]  (Sampling)\n",
      "Iteration: 60 / 100 [ 60%]  (Sampling)\n",
      "Iteration: 70 / 100 [ 70%]  (Sampling)\n",
      "Iteration: 80 / 100 [ 80%]  (Sampling)\n",
      "Iteration: 90 / 100 [ 90%]  (Sampling)\n",
      "Iteration: 100 / 100 [100%]  (Sampling)\n",
      "\n",
      " Elapsed Time: 2.06483 seconds (Warm-up)\n",
      "               3.30594 seconds (Sampling)\n",
      "               5.37077 seconds (Total)\n",
      "\n"
     ]
    },
    {
     "name": "stderr",
     "output_type": "stream",
     "text": [
      "Informational Message: The current Metropolis proposal is about to be rejected because of the following issue:\n",
      "Exception: poisson_lpmf: Rate parameter[1] is nan, but must not be nan!  (in 'COSImodfit.stan' at line 80)\n",
      "\n",
      "If this warning occurs sporadically, such as for highly constrained variable types like covariance matrices, then the sampler is fine,\n",
      "but if this warning occurs often then your model may be either severely ill-conditioned or misspecified.\n",
      "\n",
      "Informational Message: The current Metropolis proposal is about to be rejected because of the following issue:\n",
      "Exception: poisson_lpmf: Rate parameter[1] is nan, but must not be nan!  (in 'COSImodfit.stan' at line 80)\n",
      "\n",
      "If this warning occurs sporadically, such as for highly constrained variable types like covariance matrices, then the sampler is fine,\n",
      "but if this warning occurs often then your model may be either severely ill-conditioned or misspecified.\n",
      "\n",
      "Informational Message: The current Metropolis proposal is about to be rejected because of the following issue:\n",
      "Exception: poisson_lpmf: Rate parameter[1] is nan, but must not be nan!  (in 'COSImodfit.stan' at line 80)\n",
      "\n",
      "If this warning occurs sporadically, such as for highly constrained variable types like covariance matrices, then the sampler is fine,\n",
      "but if this warning occurs often then your model may be either severely ill-conditioned or misspecified.\n",
      "\n",
      "Informational Message: The current Metropolis proposal is about to be rejected because of the following issue:\n",
      "Exception: poisson_lpmf: Rate parameter[544] is nan, but must not be nan!  (in 'COSImodfit.stan' at line 80)\n",
      "\n",
      "If this warning occurs sporadically, such as for highly constrained variable types like covariance matrices, then the sampler is fine,\n",
      "but if this warning occurs often then your model may be either severely ill-conditioned or misspecified.\n",
      "\n"
     ]
    }
   ],
   "source": [
    "result.fit(iters=100,pars=['Abg','flux','model_values','model_sky','model_bg','model_tot'])"
   ]
  },
  {
   "cell_type": "code",
   "execution_count": null,
   "metadata": {},
   "outputs": [],
   "source": []
  },
  {
   "cell_type": "code",
   "execution_count": 37,
   "metadata": {},
   "outputs": [
    {
     "data": {
      "text/plain": [
       "<matplotlib.colorbar.Colorbar at 0x145d7bc10>"
      ]
     },
     "execution_count": 37,
     "metadata": {},
     "output_type": "execute_result"
    },
    {
     "data": {
      "image/png": "[encoded data removed]",
      "text/plain": [
       "<Figure size 576x432 with 2 Axes>"
      ]
     },
     "metadata": {
      "needs_background": "light"
     },
     "output_type": "display_data"
    }
   ],
   "source": [
    "plt.pcolormesh(np.cos(rsp.dB_ARR)*rsp.dL_ARR)\n",
    "plt.colorbar()"
   ]
  },
  {
   "cell_type": "code",
   "execution_count": null,
   "metadata": {},
   "outputs": [],
   "source": []
  },
  {
   "cell_type": "code",
   "execution_count": null,
   "metadata": {},
   "outputs": [],
   "source": []
  },
  {
   "cell_type": "code",
   "execution_count": null,
   "metadata": {},
   "outputs": [],
   "source": []
  },
  {
   "cell_type": "code",
   "execution_count": 38,
   "metadata": {},
   "outputs": [
    {
     "data": {
      "application/vnd.jupyter.widget-view+json": {
       "model_id": "f4dfef3302bc484abf6b6e1a96d90282",
       "version_major": 2,
       "version_minor": 0
      },
      "text/plain": [
       "HBox(children=(IntProgress(value=0, description='Loop over time bins:', max=1, style=ProgressStyle(description…"
      ]
     },
     "metadata": {},
     "output_type": "display_data"
    },
    {
     "data": {
      "application/vnd.jupyter.widget-view+json": {
       "model_id": "",
       "version_major": 2,
       "version_minor": 0
      },
      "text/plain": [
       "HBox(children=(IntProgress(value=0, max=1145), HTML(value='')))"
      ]
     },
     "metadata": {},
     "output_type": "display_data"
    },
    {
     "name": "stdout",
     "output_type": "stream",
     "text": [
      "\n"
     ]
    }
   ],
   "source": [
    "sky_filename = filename#'SRC9det_PS511keV_l-010_b-010_simOP_160628_FullDay_CE0000-1000keV_EHCstandard.tra.gz'\n",
    "sky_data = COSIpy(data_dir,sky_filename)\n",
    "sky_data.read_COSI_DataSet()\n",
    "sky_data.dataset.time_binning_tags(time_bin_size=1e5)\n",
    "sky_data.dataset.init_binning(energy_bin_edges=energy_bin_edges,\n",
    "                             pixel_size=6.)\n",
    "sky_data.dataset.get_binned_data()"
   ]
  },
  {
   "cell_type": "code",
   "execution_count": 39,
   "metadata": {},
   "outputs": [
    {
     "data": {
      "text/plain": [
       "(1, 8, 30, 1145)"
      ]
     },
     "execution_count": 39,
     "metadata": {},
     "output_type": "execute_result"
    }
   ],
   "source": [
    "sky_data.dataset.binned_data.shape"
   ]
  },
  {
   "cell_type": "code",
   "execution_count": 41,
   "metadata": {},
   "outputs": [
    {
     "data": {
      "text/plain": [
       "\"for i in range(analysis.dataset.energies.n_energy_bins-1):\\n    plt.plot([analysis.dataset.energies.energy_bin_min[i],\\n              analysis.dataset.energies.energy_bin_min[i+1]],\\n             np.repeat(plaw_folded_counts[i],2),'r-')\\n    if ((i >= 0) & (i<rsp.n_e-1)):\\n        plt.plot(np.repeat(analysis.dataset.energies.energy_bin_min[i+1],2),\\n                 [plaw_folded_counts[i],\\n                  plaw_folded_counts[i+1]],'r-')\\n        \""
      ]
     },
     "execution_count": 41,
     "metadata": {},
     "output_type": "execute_result"
    },
    {
     "data": {
      "image/png": "[encoded data removed]",
      "text/plain": [
       "<Figure size 576x432 with 1 Axes>"
      ]
     },
     "metadata": {
      "needs_background": "light"
     },
     "output_type": "display_data"
    }
   ],
   "source": [
    "fig, ax = plt.subplots()\n",
    "\n",
    "ax.errorbar(analysis.dataset.energies.energy_bin_cen[0:],\n",
    "             result.diff_flux[0:]*0.011,#/analysis.dataset.energies.energy_bin_wid[0:]/2,\n",
    "             xerr=analysis.dataset.energies.energy_bin_wid[0:],\n",
    "             yerr=np.abs(result.diff_flux_err[0:,:].T)*0.011,#/analysis.dataset.energies.energy_bin_wid[0:]/2,\n",
    "             fmt='o',linewidth=1,color='gray',\n",
    "             label=r'COSI data ($1\\sigma$)')\n",
    "\n",
    "\n",
    "ax.set_xlabel('Energy [keV]')\n",
    "ax.set_ylabel(r'Flux [$\\mathrm{ph\\,cm^{-2}\\,s^{-1}\\,keV^{-1}}$]')\n",
    "\n",
    "#ax.axhline(0,linestyle=':')\n",
    "\n",
    "ax.set_yscale('log')\n",
    "ax.set_xscale('log')\n",
    "#ax.set_ylim(0,1e-1)\n",
    "ax.legend()\n",
    "\n",
    "x = np.logspace(2,np.log10(2500),100)\n",
    "plt.plot(x,9.1e-4*(x/100)**(-2.17))\n",
    "\n",
    "\"\"\"for i in range(analysis.dataset.energies.n_energy_bins-1):\n",
    "    plt.plot([analysis.dataset.energies.energy_bin_min[i],\n",
    "              analysis.dataset.energies.energy_bin_min[i+1]],\n",
    "             np.repeat(plaw_folded_counts[i],2),'r-')\n",
    "    if ((i >= 0) & (i<rsp.n_e-1)):\n",
    "        plt.plot(np.repeat(analysis.dataset.energies.energy_bin_min[i+1],2),\n",
    "                 [plaw_folded_counts[i],\n",
    "                  plaw_folded_counts[i+1]],'r-')\n",
    "        \"\"\""
   ]
  },
  {
   "cell_type": "code",
   "execution_count": null,
   "metadata": {},
   "outputs": [],
   "source": []
  },
  {
   "cell_type": "code",
   "execution_count": null,
   "metadata": {},
   "outputs": [],
   "source": [
    "break"
   ]
  },
  {
   "cell_type": "code",
   "execution_count": null,
   "metadata": {},
   "outputs": [],
   "source": []
  },
  {
   "cell_type": "code",
   "execution_count": 55,
   "metadata": {},
   "outputs": [
    {
     "ename": "NameError",
     "evalue": "name 'plaw_folded_counts' is not defined",
     "output_type": "error",
     "traceback": [
      "\u001b[0;31m---------------------------------------------------------------------------\u001b[0m",
      "\u001b[0;31mNameError\u001b[0m                                 Traceback (most recent call last)",
      "\u001b[0;32m<ipython-input-55-e3b76c8d4228>\u001b[0m in \u001b[0;36m<module>\u001b[0;34m\u001b[0m\n\u001b[0;32m----> 1\u001b[0;31m \u001b[0mresult\u001b[0m\u001b[0;34m.\u001b[0m\u001b[0mdiff_flux\u001b[0m\u001b[0;34m[\u001b[0m\u001b[0;36m0\u001b[0m\u001b[0;34m:\u001b[0m\u001b[0;34m]\u001b[0m\u001b[0;34m/\u001b[0m\u001b[0mplaw_folded_counts\u001b[0m\u001b[0;34m[\u001b[0m\u001b[0;36m0\u001b[0m\u001b[0;34m:\u001b[0m\u001b[0;34m-\u001b[0m\u001b[0;36m2\u001b[0m\u001b[0;34m]\u001b[0m\u001b[0;34m\u001b[0m\u001b[0;34m\u001b[0m\u001b[0m\n\u001b[0m",
      "\u001b[0;31mNameError\u001b[0m: name 'plaw_folded_counts' is not defined"
     ]
    }
   ],
   "source": [
    "result.diff_flux[0:]/plaw_folded_counts[0:-2]"
   ]
  },
  {
   "cell_type": "code",
   "execution_count": 56,
   "metadata": {},
   "outputs": [],
   "source": [
    "blub = np.array([rsp.sky_response[i].shape[1] for i in range(8)])"
   ]
  },
  {
   "cell_type": "code",
   "execution_count": 57,
   "metadata": {},
   "outputs": [
    {
     "data": {
      "text/plain": [
       "array([ 988, 1953, 2525, 2561, 3037, 3203, 3559, 3535])"
      ]
     },
     "execution_count": 57,
     "metadata": {},
     "output_type": "execute_result"
    }
   ],
   "source": [
    "blub"
   ]
  },
  {
   "cell_type": "code",
   "execution_count": 58,
   "metadata": {},
   "outputs": [
    {
     "data": {
      "text/plain": [
       "<matplotlib.collections.QuadMesh at 0x14bfd93d0>"
      ]
     },
     "execution_count": 58,
     "metadata": {},
     "output_type": "execute_result"
    },
    {
     "data": {
      "image/png": "[encoded data removed]",
      "text/plain": [
       "<Figure size 576x432 with 1 Axes>"
      ]
     },
     "metadata": {
      "needs_background": "light"
     },
     "output_type": "display_data"
    }
   ],
   "source": [
    "plt.pcolormesh(rsp.dOmega)"
   ]
  },
  {
   "cell_type": "code",
   "execution_count": 59,
   "metadata": {},
   "outputs": [],
   "source": [
    "def powerlaw(energy, p):\n",
    "    \"\"\"\n",
    "    Returns:\n",
    "    Differential flux shaped as power-law function \"in units of ph/cm2/s/keV\"\n",
    "    \n",
    "    Parameters:\n",
    "    :param energy: 1D-array of energies where power-law is evaluated (in keV)\n",
    "    :param p:      p[0] = Normalisation (in ph/cm2/s/keV)\n",
    "    :param p:      p[1] = Power-law index (unitless)\n",
    "\n",
    "    Misc:\n",
    "    E0             Pivotal energy, i.e. where the power-law is normalised at (in keV)\n",
    "    \"\"\"\n",
    "    \n",
    "    E0 = 100.\n",
    "    \n",
    "    return p[0]*np.power(energy/E0,p[1])"
   ]
  },
  {
   "cell_type": "code",
   "execution_count": 60,
   "metadata": {},
   "outputs": [],
   "source": [
    "def integrate_powerlaw(e_lo,e_hi,p):\n",
    "    return (e_hi-e_lo)/6.0*(powerlaw(e_lo,p)+4*powerlaw((e_hi+e_lo)/2.0,p)+powerlaw(e_hi,p))"
   ]
  },
  {
   "cell_type": "code",
   "execution_count": 233,
   "metadata": {},
   "outputs": [],
   "source": [
    "plaw_true_fluxes = integrate_powerlaw(rsp.e_min, rsp.e_max, (9.1e-4,-2.169))  # dNp/(dt dA) "
   ]
  },
  {
   "cell_type": "code",
   "execution_count": 234,
   "metadata": {},
   "outputs": [
    {
     "data": {
      "text/plain": [
       "array([0.01750875, 0.01135672, 0.00719357, 0.0011113 , 0.00411951,\n",
       "       0.0025971 , 0.00168488, 0.00099547, 0.0007034 , 0.00043692])"
      ]
     },
     "execution_count": 234,
     "metadata": {},
     "output_type": "execute_result"
    }
   ],
   "source": [
    "plaw_true_fluxes"
   ]
  },
  {
   "cell_type": "code",
   "execution_count": 235,
   "metadata": {},
   "outputs": [
    {
     "data": {
      "image/png": "[encoded data removed]",
      "text/plain": [
       "<Figure size 576x432 with 1 Axes>"
      ]
     },
     "metadata": {
      "needs_background": "light"
     },
     "output_type": "display_data"
    }
   ],
   "source": [
    "for i in range(rsp.n_e-1):\n",
    "    plt.plot([rsp.e_min[i],\n",
    "              rsp.e_min[i+1]],\n",
    "             np.repeat(plaw_true_fluxes[i],2),'r-')\n",
    "    if ((i >= 0) & (i<rsp.n_e-1)):\n",
    "        plt.plot(np.repeat(rsp.e_min[i+1],2),\n",
    "                 [plaw_true_fluxes[i],\n",
    "                  plaw_true_fluxes[i+1]],'r-')\n",
    "        \n",
    "plt.xscale('log')\n",
    "plt.yscale('log')"
   ]
  },
  {
   "cell_type": "code",
   "execution_count": 119,
   "metadata": {},
   "outputs": [],
   "source": [
    "tmp = np.sum(rsp.rsp.response_grid_normed[9,30,:,:,:,:],axis=(0,1))"
   ]
  },
  {
   "cell_type": "code",
   "execution_count": 120,
   "metadata": {},
   "outputs": [
    {
     "data": {
      "text/plain": [
       "(30, 60, 30, 1145, 10, 10)"
      ]
     },
     "execution_count": 120,
     "metadata": {},
     "output_type": "execute_result"
    }
   ],
   "source": [
    "rsp.rsp.response_grid_normed.shape"
   ]
  },
  {
   "cell_type": "code",
   "execution_count": 249,
   "metadata": {},
   "outputs": [
    {
     "data": {
      "application/vnd.jupyter.widget-view+json": {
       "model_id": "efbef47084204225b3a45954f7c3de7f",
       "version_major": 2,
       "version_minor": 0
      },
      "text/plain": [
       "HBox(children=(IntProgress(value=0, max=30), HTML(value='')))"
      ]
     },
     "metadata": {},
     "output_type": "display_data"
    },
    {
     "name": "stdout",
     "output_type": "stream",
     "text": [
      "\n"
     ]
    }
   ],
   "source": [
    "plaw_folded_counts = 0\n",
    "\n",
    "for i in tqdm(range(30)):\n",
    "    for j in range(1145):\n",
    "        plaw_folded_counts += np.dot(plaw_true_fluxes, rsp.rsp.response_grid_normed[0,0,i,j,:,:])\n",
    "        \n",
    "plaw_folded_counts /= rsp.e_wid*0.011"
   ]
  },
  {
   "cell_type": "code",
   "execution_count": 255,
   "metadata": {},
   "outputs": [],
   "source": [
    "bla = [np.sum(rsp.sky_response[i]) for i in range (rsp.n_e-2)]"
   ]
  },
  {
   "cell_type": "code",
   "execution_count": 277,
   "metadata": {},
   "outputs": [
    {
     "data": {
      "text/plain": [
       "array([0.0023222 , 0.01601725, 0.03391701, 0.00146379, 0.04647324,\n",
       "       0.04883017, 0.05357894, 0.03204935])"
      ]
     },
     "execution_count": 277,
     "metadata": {},
     "output_type": "execute_result"
    }
   ],
   "source": [
    "bla*plaw_true_fluxes[0:-2]"
   ]
  },
  {
   "cell_type": "code",
   "execution_count": 297,
   "metadata": {},
   "outputs": [
    {
     "data": {
      "image/png": "[encoded data removed]",
      "text/plain": [
       "<Figure size 576x432 with 1 Axes>"
      ]
     },
     "metadata": {
      "needs_background": "light"
     },
     "output_type": "display_data"
    }
   ],
   "source": [
    "plt.step(rsp.e_cen[0:-2],bla*plaw_true_fluxes[0:-2]/rsp.e_wid[0:-2],where='mid')\n",
    "plt.xscale('log')"
   ]
  },
  {
   "cell_type": "code",
   "execution_count": 298,
   "metadata": {},
   "outputs": [
    {
     "data": {
      "text/plain": [
       "<module 'response' from '/Users/thomassiegert/python/COSIpy/COSIpy/response.py'>"
      ]
     },
     "execution_count": 298,
     "metadata": {},
     "output_type": "execute_result"
    }
   ],
   "source": [
    "response"
   ]
  },
  {
   "cell_type": "code",
   "execution_count": null,
   "metadata": {},
   "outputs": [],
   "source": []
  },
  {
   "cell_type": "code",
   "execution_count": 132,
   "metadata": {},
   "outputs": [],
   "source": [
    "plaw_folded_counts = np.dot(plaw_true_fluxes, tmp/np.mean(np.diag(tmp)))/ rsp.e_wid"
   ]
  },
  {
   "cell_type": "code",
   "execution_count": 283,
   "metadata": {},
   "outputs": [],
   "source": [
    "plaw_folded_counts = bla*plaw_true_fluxes[0:-2]/rsp.e_wid[0:-2]**2#bla/rsp.e_wid[0:-2]*rsp.e_cen[0:-2]**(-2.17)/np.mean(rsp.e_cen[0:-2]**(-2.17)*0.011)"
   ]
  },
  {
   "cell_type": "code",
   "execution_count": 284,
   "metadata": {},
   "outputs": [
    {
     "data": {
      "image/png": "[encoded data removed]",
      "text/plain": [
       "<Figure size 576x432 with 1 Axes>"
      ]
     },
     "metadata": {
      "needs_background": "light"
     },
     "output_type": "display_data"
    }
   ],
   "source": [
    "fac = 1#sky_data.dataset.times.times_wid\n",
    "\n",
    "for i in range(rsp.n_e-3):\n",
    "    plt.plot([rsp.e_min[i],\n",
    "              rsp.e_min[i+1]],\n",
    "             np.repeat(plaw_folded_counts[i],2)*fac,'r-')\n",
    "    if ((i >= 0) & (i<rsp.n_e-3)):\n",
    "        plt.plot(np.repeat(rsp.e_min[i+1],2),\n",
    "                 [plaw_folded_counts[i]*fac,\n",
    "                  plaw_folded_counts[i+1]*fac],'r-')\n",
    "        \n",
    "\n",
    "plt.xscale('log')\n",
    "#plt.yscale('log')"
   ]
  },
  {
   "cell_type": "code",
   "execution_count": 219,
   "metadata": {},
   "outputs": [
    {
     "data": {
      "text/plain": [
       "<matplotlib.colorbar.Colorbar at 0x14e3d4b50>"
      ]
     },
     "execution_count": 219,
     "metadata": {},
     "output_type": "execute_result"
    },
    {
     "data": {
      "image/png": "[encoded data removed]",
      "text/plain": [
       "<Figure size 576x432 with 2 Axes>"
      ]
     },
     "metadata": {
      "needs_background": "light"
     },
     "output_type": "display_data"
    }
   ],
   "source": [
    "plt.pcolormesh(rsp.e_edges,rsp.e_edges,tmp.T/np.mean(np.diag(tmp)),\n",
    "              cmap=plt.cm.plasma)#,vmin=0.9,vmax=1.1)\n",
    "plt.xscale('log')\n",
    "plt.yscale('log')\n",
    "plt.colorbar()\n",
    "#plt.xlim(100,5000)\n",
    "#plt.ylim(100,5000)"
   ]
  },
  {
   "cell_type": "code",
   "execution_count": null,
   "metadata": {},
   "outputs": [],
   "source": []
  },
  {
   "cell_type": "code",
   "execution_count": null,
   "metadata": {},
   "outputs": [],
   "source": []
  },
  {
   "cell_type": "code",
   "execution_count": null,
   "metadata": {},
   "outputs": [],
   "source": []
  },
  {
   "cell_type": "code",
   "execution_count": 225,
   "metadata": {},
   "outputs": [
    {
     "data": {
      "image/png": "[encoded data removed]",
      "text/plain": [
       "<Figure size 576x432 with 2 Axes>"
      ]
     },
     "metadata": {
      "needs_background": "light"
     },
     "output_type": "display_data"
    }
   ],
   "source": [
    "fig, ax = plt.subplots()\n",
    "\n",
    "ax.errorbar(analysis.dataset.energies.energy_bin_cen[0:],\n",
    "             result.diff_flux[0:],#/(180/np.pi),#analysis.dataset.energies.energy_bin_wid[0:]/2,\n",
    "             xerr=analysis.dataset.energies.energy_bin_wid[0:],\n",
    "             yerr=np.abs(result.diff_flux_err2[0:,:].T),#/(180/np.pi),#analysis.dataset.energies.energy_bin_wid[0:]/2,\n",
    "             fmt='o',linewidth=1,color='gray',\n",
    "             label=r'COSI data ($2\\sigma$)')\n",
    "\n",
    "ax.errorbar(analysis.dataset.energies.energy_bin_cen[0:],\n",
    "             result.diff_flux[0:],#/(180/np.pi),#analysis.dataset.energies.energy_bin_wid[0:]/2,\n",
    "             xerr=analysis.dataset.energies.energy_bin_wid[0:],\n",
    "             yerr=np.abs(result.diff_flux_err[0:,:].T),#/(180/np.pi),#analysis.dataset.energies.energy_bin_wid[0:]/2,\n",
    "             fmt='o',linewidth=3,color='black',\n",
    "             label=r'COSI data ($1\\sigma$)')\n",
    "\n",
    "ax.set_xlabel('Energy [keV]')\n",
    "ax.set_ylabel(r'Flux [$\\mathrm{ph\\,cm^{-2}\\,s^{-1}\\,keV^{-1}}$]')\n",
    "\n",
    "ax.axhline(0,linestyle=':')\n",
    "\n",
    "#ax.set_yscale('log')\n",
    "#ax.set_ylim(0,1e-1)\n",
    "ax.legend()\n",
    "\n",
    "#ax.set_ylim(-0.005,0.05)\n",
    "lax_ylim = ax.get_ylim()\n",
    "\n",
    "ax2 = plt.twinx()\n",
    "\"\"\"\n",
    "plt.step(analysis.dataset.energies.energy_bin_cen+2.5,\n",
    "         np.sum(sky_data.dataset.binned_data,axis=(0,2,3))/analysis.dataset.energies.energy_bin_wid/2,\n",
    "         where='mid',color='red')\"\"\"\n",
    "\n",
    "sim_sky_rate = np.sum(sky_data.dataset.binned_data,axis=(0,2,3))#/analysis.dataset.energies.energy_bin_wid/2\n",
    "\n",
    "for i in range(analysis.dataset.energies.n_energy_bins-1):\n",
    "    ax2.plot([analysis.dataset.energies.energy_bin_min[i],analysis.dataset.energies.energy_bin_min[i+1]],\n",
    "             np.repeat(sim_sky_rate[i],2),'r-')\n",
    "    if ((i >= 0) & (i<analysis.dataset.energies.n_energy_bins-1)):\n",
    "        ax2.plot(np.repeat(analysis.dataset.energies.energy_bin_min[i+1],2),\n",
    "                 [sim_sky_rate[i],\n",
    "                  sim_sky_rate[i+1]],'r-')\n",
    "\n",
    "ax2.set_ylabel('True SKY counts/keV',color='red')\n",
    "\n",
    "ax2.yaxis.label.set_color('red')\n",
    "ax2.tick_params(axis='y', colors='red')\n",
    "\n",
    "rax_ylim = ax2.get_ylim()\n",
    "\n",
    "#ax2.set_ylim(rax_ylim[0]*np.diff(lax_ylim)/(result.diff_flux[0:]/analysis.dataset.energies.energy_bin_wid[0:]/2).max(),\n",
    "#             rax_ylim[0]+rax_ylim[1]*lax_ylim[1]/(result.diff_flux[0:]/analysis.dataset.energies.energy_bin_wid[0:]/2).max())\n",
    "\n",
    "ax2.set_xscale('log')\n",
    "#ax2.set_yscale('log')\n",
    "#plt.ylim()"
   ]
  },
  {
   "cell_type": "code",
   "execution_count": null,
   "metadata": {},
   "outputs": [],
   "source": []
  },
  {
   "cell_type": "code",
   "execution_count": 226,
   "metadata": {},
   "outputs": [
    {
     "data": {
      "text/plain": [
       "array([30334.51974058])"
      ]
     },
     "execution_count": 226,
     "metadata": {},
     "output_type": "execute_result"
    }
   ],
   "source": [
    "sky_data.dataset.times.times_wid"
   ]
  },
  {
   "cell_type": "code",
   "execution_count": 289,
   "metadata": {},
   "outputs": [
    {
     "data": {
      "text/plain": [
       "(0, 21.794642857142858)"
      ]
     },
     "execution_count": 289,
     "metadata": {},
     "output_type": "execute_result"
    },
    {
     "data": {
      "image/png": "[encoded data removed]",
      "text/plain": [
       "<Figure size 576x432 with 1 Axes>"
      ]
     },
     "metadata": {
      "needs_background": "light"
     },
     "output_type": "display_data"
    }
   ],
   "source": [
    "fac = 100**3.5#000*sky_data.dataset.times.times_wid\n",
    "\n",
    "for i in range(rsp.n_e-3):\n",
    "    plt.plot([rsp.e_min[i],\n",
    "              rsp.e_min[i+1]],\n",
    "             np.repeat(plaw_folded_counts[i],2)*fac,'r-')\n",
    "    if ((i >= 0) & (i<rsp.n_e-3)):\n",
    "        plt.plot(np.repeat(rsp.e_min[i+1],2),\n",
    "                 [plaw_folded_counts[i]*fac,\n",
    "                  plaw_folded_counts[i+1]*fac],'r-')\n",
    "        \n",
    "\n",
    "plt.xscale('log')\n",
    "#plt.yscale('log')\n",
    "\n",
    "sim_sky_rate = np.sum(sky_data.dataset.binned_data,axis=(0,2,3))/analysis.dataset.energies.energy_bin_wid/2\n",
    "\n",
    "for i in range(analysis.dataset.energies.n_energy_bins-1):\n",
    "    plt.plot([analysis.dataset.energies.energy_bin_min[i],analysis.dataset.energies.energy_bin_min[i+1]],\n",
    "             np.repeat(sim_sky_rate[i],2),'b-')\n",
    "    if ((i >= 0) & (i<analysis.dataset.energies.n_energy_bins-1)):\n",
    "        plt.plot(np.repeat(analysis.dataset.energies.energy_bin_min[i+1],2),\n",
    "                 [sim_sky_rate[i],\n",
    "                  sim_sky_rate[i+1]],'b-')\n",
    "\n",
    "ax2.set_ylabel('True SKY counts/keV',color='red')\n",
    "\n",
    "plt.ylim(0,)"
   ]
  },
  {
   "cell_type": "code",
   "execution_count": null,
   "metadata": {},
   "outputs": [],
   "source": []
  },
  {
   "cell_type": "code",
   "execution_count": null,
   "metadata": {},
   "outputs": [],
   "source": []
  },
  {
   "cell_type": "code",
   "execution_count": null,
   "metadata": {},
   "outputs": [],
   "source": []
  },
  {
   "cell_type": "code",
   "execution_count": null,
   "metadata": {},
   "outputs": [],
   "source": []
  },
  {
   "cell_type": "code",
   "execution_count": null,
   "metadata": {},
   "outputs": [],
   "source": [
    "use_rsp = [find_nearest(rsp.e_cen,erg) for erg in analysis.dataset.energies.energy_bin_cen]"
   ]
  },
  {
   "cell_type": "code",
   "execution_count": null,
   "metadata": {},
   "outputs": [],
   "source": [
    "use_rsp"
   ]
  },
  {
   "cell_type": "code",
   "execution_count": null,
   "metadata": {},
   "outputs": [],
   "source": [
    "result.diff_flux# * (analysis.dataset.energies.energy_bin_wid*2) / rsp.e_wid[use_rsp]"
   ]
  },
  {
   "cell_type": "code",
   "execution_count": null,
   "metadata": {},
   "outputs": [],
   "source": []
  },
  {
   "cell_type": "code",
   "execution_count": null,
   "metadata": {},
   "outputs": [],
   "source": []
  },
  {
   "cell_type": "code",
   "execution_count": null,
   "metadata": {},
   "outputs": [],
   "source": [
    "rsp.e_edges[use_rsp]"
   ]
  },
  {
   "cell_type": "code",
   "execution_count": null,
   "metadata": {},
   "outputs": [],
   "source": [
    "analysis.dataset.energies.energy_bin_wid*2"
   ]
  },
  {
   "cell_type": "code",
   "execution_count": null,
   "metadata": {},
   "outputs": [],
   "source": [
    "analysis.dataset.energies.energy_bin_wid*2 / rsp.e_wid[use_rsp]"
   ]
  },
  {
   "cell_type": "code",
   "execution_count": null,
   "metadata": {},
   "outputs": [],
   "source": [
    "rsp.e_wid"
   ]
  },
  {
   "cell_type": "code",
   "execution_count": null,
   "metadata": {},
   "outputs": [],
   "source": [
    "analysis.dataset.energies.energy_bin_cen"
   ]
  },
  {
   "cell_type": "code",
   "execution_count": null,
   "metadata": {},
   "outputs": [],
   "source": [
    "result.diff_flux * (analysis.dataset.energies.energy_bin_wid*2) / rsp.e_wid[use_rsp]"
   ]
  },
  {
   "cell_type": "code",
   "execution_count": null,
   "metadata": {},
   "outputs": [],
   "source": [
    "result.diff_flux[3]/1e-3#/(analysis.dataset.energies.energy_bin_wid*2)"
   ]
  },
  {
   "cell_type": "code",
   "execution_count": null,
   "metadata": {},
   "outputs": [],
   "source": [
    "np.max(np.abs(result.diff_flux_err),axis=1) * (analysis.dataset.energies.energy_bin_wid*2) / rsp.e_wid[use_rsp]"
   ]
  },
  {
   "cell_type": "code",
   "execution_count": null,
   "metadata": {},
   "outputs": [],
   "source": [
    "2*np.pi"
   ]
  },
  {
   "cell_type": "code",
   "execution_count": null,
   "metadata": {},
   "outputs": [],
   "source": [
    "result.diff_flux * rsp.e_wid[use_rsp] / (analysis.dataset.energies.energy_bin_wid*2)**3"
   ]
  },
  {
   "cell_type": "code",
   "execution_count": null,
   "metadata": {},
   "outputs": [],
   "source": [
    "result.diff_flux * (analysis.dataset.energies.energy_bin_wid*2)**2 / rsp.e_wid[use_rsp]"
   ]
  },
  {
   "cell_type": "code",
   "execution_count": null,
   "metadata": {},
   "outputs": [],
   "source": [
    "180/np.pi"
   ]
  },
  {
   "cell_type": "code",
   "execution_count": null,
   "metadata": {},
   "outputs": [],
   "source": []
  },
  {
   "cell_type": "code",
   "execution_count": null,
   "metadata": {},
   "outputs": [],
   "source": []
  },
  {
   "cell_type": "code",
   "execution_count": 141,
   "metadata": {},
   "outputs": [
    {
     "data": {
      "text/plain": [
       "<matplotlib.legend.Legend at 0x15671b0d0>"
      ]
     },
     "execution_count": 141,
     "metadata": {},
     "output_type": "execute_result"
    },
    {
     "data": {
      "image/png": "[encoded data removed]",
      "text/plain": [
       "<Figure size 576x432 with 1 Axes>"
      ]
     },
     "metadata": {
      "needs_background": "light"
     },
     "output_type": "display_data"
    }
   ],
   "source": [
    "b = 0\n",
    "\n",
    "analysis.dataset.plot_lightcurve(b)\n",
    "\n",
    "#plt.twinx()\n",
    "\n",
    "plt.step(analysis.dataset.times.times_cen,\n",
    "         np.median(result.fit_pars[b]['model_tot'],axis=0)/(analysis.dataset.times.times_wid*2),\n",
    "         color='purple',where='mid',marker='o',linewidth=3,label='Tot')\n",
    "\n",
    "plt.step(analysis.dataset.times.times_cen,\n",
    "         np.median(result.fit_pars[b]['model_bg'],axis=0)/(analysis.dataset.times.times_wid*2),\n",
    "         color='red',where='mid',marker='o',linewidth=3,label='BG')\n",
    "\n",
    "plt.step(analysis.dataset.times.times_cen,\n",
    "         np.median(result.fit_pars[b]['model_sky'],axis=(0,1))/(analysis.dataset.times.times_wid*2),\n",
    "         color='lime',where='mid',marker='o',linewidth=3,label='SKY')\n",
    "\n",
    "plt.legend(loc=2)\n",
    "\n",
    "#plt.plot(analysis.dataset.times.times_max[0::2],\n",
    "#         np.median(result.fit_pars[b]['Abg'],axis=0),color='red')\n",
    "#plt.plot(analysis.dataset.times.times_cen,\n",
    "#         np.sum(rsp.sky_response[b],axis=1),color='lime')"
   ]
  },
  {
   "cell_type": "code",
   "execution_count": null,
   "metadata": {},
   "outputs": [],
   "source": []
  },
  {
   "cell_type": "code",
   "execution_count": null,
   "metadata": {},
   "outputs": [],
   "source": [
    "break"
   ]
  },
  {
   "cell_type": "code",
   "execution_count": null,
   "metadata": {},
   "outputs": [],
   "source": []
  },
  {
   "cell_type": "code",
   "execution_count": null,
   "metadata": {},
   "outputs": [],
   "source": []
  },
  {
   "cell_type": "code",
   "execution_count": null,
   "metadata": {},
   "outputs": [],
   "source": [
    "tmp = np.sum(rsp.rsp.response_grid_normed[:,:,:,:,:,:],axis=(0,1,2,3))"
   ]
  },
  {
   "cell_type": "code",
   "execution_count": null,
   "metadata": {},
   "outputs": [],
   "source": [
    "rsp_e_edges = np.array([ 150,  220,  325,  480,  520,  765, 1120, 1650, 2350, 3450, 5000])"
   ]
  },
  {
   "cell_type": "code",
   "execution_count": null,
   "metadata": {},
   "outputs": [],
   "source": [
    "rsp_e_edges.shape"
   ]
  },
  {
   "cell_type": "code",
   "execution_count": null,
   "metadata": {},
   "outputs": [],
   "source": [
    "plt.pcolormesh(rsp_e_edges,rsp_e_edges,tmp.T/np.diff(rsp_e_edges)**2,\n",
    "              cmap=plt.cm.plasma)\n",
    "plt.xscale('log')\n",
    "plt.yscale('log')\n",
    "plt.colorbar()\n",
    "#plt.xlim(100,5000)\n",
    "#plt.ylim(100,5000)"
   ]
  },
  {
   "cell_type": "code",
   "execution_count": null,
   "metadata": {},
   "outputs": [],
   "source": []
  },
  {
   "cell_type": "code",
   "execution_count": null,
   "metadata": {},
   "outputs": [],
   "source": [
    "def Gaussian(energy,p):\n",
    "    \"\"\"\n",
    "    Returns:\n",
    "    Differential flux shaped as symmetric Gaussian \"in units of ph/cm2/s/keV\"\n",
    "    \n",
    "    Parameters:\n",
    "    :param energy: 1D-array of energies where power-law is evaluated (in keV)\n",
    "    :param p:      p[0] = Normalisation (area under Gaussian) (in ph/cm2/s)\n",
    "    :param p:      p[1] = Line centroid (in keV)\n",
    "    :param p:      p[2] = Line width (1-sigma value) (in keV)\n",
    "    \"\"\"    \n",
    "\n",
    "    return p[0]/(np.sqrt(2*np.pi)*p[2])*np.exp(-(energy-p[1])**2/(2*p[2]**2))"
   ]
  },
  {
   "cell_type": "code",
   "execution_count": null,
   "metadata": {},
   "outputs": [],
   "source": [
    "def powerlaw(energy, p):\n",
    "    \"\"\"\n",
    "    Returns:\n",
    "    Differential flux shaped as power-law function \"in units of ph/cm2/s/keV\"\n",
    "    \n",
    "    Parameters:\n",
    "    :param energy: 1D-array of energies where power-law is evaluated (in keV)\n",
    "    :param p:      p[0] = Normalisation (in ph/cm2/s/keV)\n",
    "    :param p:      p[1] = Power-law index (unitless)\n",
    "\n",
    "    Misc:\n",
    "    E0             Pivotal energy, i.e. where the power-law is normalised at (in keV)\n",
    "    \"\"\"\n",
    "    \n",
    "    E0 = 100.\n",
    "    \n",
    "    return p[0]*np.power(energy/E0,p[1])"
   ]
  },
  {
   "cell_type": "code",
   "execution_count": null,
   "metadata": {},
   "outputs": [],
   "source": [
    "# integral of the differential flux\n",
    "# here, we use Simpson's 3/8 rule as it provides very accurate on this scale;\n",
    "# if, however, the models can change abruptly, consider the true integral, if available\n",
    "\n",
    "def integrate_gaussian(e_lo,e_hi,p):\n",
    "    return (e_hi-e_lo)/6.0*(Gaussian(e_lo,p)+4*Gaussian((e_hi+e_lo)/2.0,p)+Gaussian(e_hi,p))\n",
    "\n",
    "def integrate_powerlaw(e_lo,e_hi,p):\n",
    "    return (e_hi-e_lo)/6.0*(powerlaw(e_lo,p)+4*powerlaw((e_hi+e_lo)/2.0,p)+powerlaw(e_hi,p))"
   ]
  },
  {
   "cell_type": "code",
   "execution_count": null,
   "metadata": {},
   "outputs": [],
   "source": [
    "plt.plot(rsp.e_cen,Gaussian(rsp.e_cen,[1e-2,511,1]))"
   ]
  },
  {
   "cell_type": "code",
   "execution_count": null,
   "metadata": {},
   "outputs": [],
   "source": [
    "gaussian_true_fluxes = integrate_gaussian(rsp.e_min, rsp.e_max, (1e-2,511,0.1))  # dNp/(dt dA) "
   ]
  },
  {
   "cell_type": "code",
   "execution_count": null,
   "metadata": {},
   "outputs": [],
   "source": [
    "gaussian_true_fluxes = integrate_gaussian(analysis.dataset.energies.energy_bin_min,\n",
    "                                          analysis.dataset.energies.energy_bin_max, (1e-2,511,10))/\\\n",
    "(analysis.dataset.energies.energy_bin_wid/2)**0\n",
    "\n",
    "for i in range(analysis.dataset.energies.n_energy_bins-1):\n",
    "    plt.plot([analysis.dataset.energies.energy_bin_min[i],analysis.dataset.energies.energy_bin_min[i+1]],\n",
    "             np.repeat(gaussian_true_fluxes[i],2),'r-')\n",
    "    if ((i >= 0) & (i<rsp.n_e-1)):\n",
    "        plt.plot(np.repeat(analysis.dataset.energies.energy_bin_min[i+1],2),\n",
    "                 [gaussian_true_fluxes[i],\n",
    "                  gaussian_true_fluxes[i+1]],'r-')"
   ]
  },
  {
   "cell_type": "code",
   "execution_count": null,
   "metadata": {},
   "outputs": [],
   "source": []
  },
  {
   "cell_type": "code",
   "execution_count": null,
   "metadata": {},
   "outputs": [],
   "source": [
    "fig, ax = plt.subplots()\n",
    "\n",
    "ax.errorbar(analysis.dataset.energies.energy_bin_cen[0:],\n",
    "             result.diff_flux[0:],#/analysis.dataset.energies.energy_bin_wid[0:]/2,\n",
    "             xerr=analysis.dataset.energies.energy_bin_wid[0:],\n",
    "             yerr=np.abs(result.diff_flux_err2[0:,:].T),#/analysis.dataset.energies.energy_bin_wid[0:]/2,\n",
    "             fmt='o',linewidth=1,color='gray',\n",
    "             label=r'COSI data ($2\\sigma$)')\n",
    "\n",
    "ax.errorbar(analysis.dataset.energies.energy_bin_cen[0:],\n",
    "             result.diff_flux[0:],#/analysis.dataset.energies.energy_bin_wid[0:]/2,\n",
    "             xerr=analysis.dataset.energies.energy_bin_wid[0:],\n",
    "             yerr=np.abs(result.diff_flux_err[0:,:].T),#|/analysis.dataset.energies.energy_bin_wid[0:]/2,\n",
    "             fmt='o',linewidth=3,color='black',\n",
    "             label=r'COSI data ($1\\sigma$)')\n",
    "\n",
    "ax.set_xlabel('Energy [keV]')\n",
    "ax.set_ylabel(r'Flux [$\\mathrm{ph\\,cm^{-2}\\,s^{-1}\\,keV^{-1}}$]')\n",
    "\n",
    "ax.axhline(0,linestyle=':')\n",
    "\n",
    "#ax.set_yscale('log')\n",
    "\n",
    "ax.legend()\n",
    "\n",
    "#ax.set_xlim(150,650)\n",
    "#ax.set_ylim(0,1e-1)\n",
    "\n",
    "gaussian_true_fluxes = integrate_gaussian(analysis.dataset.energies.energy_bin_min,\n",
    "                                          analysis.dataset.energies.energy_bin_max, (1e-2,511,0.1))/analysis.dataset.energies.energy_bin_wid/2\n",
    "\n",
    "for i in range(analysis.dataset.energies.n_energy_bins-1):\n",
    "    ax.plot([analysis.dataset.energies.energy_bin_min[i],analysis.dataset.energies.energy_bin_min[i+1]],\n",
    "             np.repeat(gaussian_true_fluxes[i],2),'r-')\n",
    "    if ((i >= 0) & (i<rsp.n_e-1)):\n",
    "        ax.plot(np.repeat(analysis.dataset.energies.energy_bin_min[i+1],2),\n",
    "                 [gaussian_true_fluxes[i],\n",
    "                  gaussian_true_fluxes[i+1]],'r-')\n",
    "\n",
    "#ax.step(rsp.e_cen,gaussian_true_fluxes)"
   ]
  },
  {
   "cell_type": "code",
   "execution_count": null,
   "metadata": {},
   "outputs": [],
   "source": [
    "gaussian_true_fluxes"
   ]
  },
  {
   "cell_type": "code",
   "execution_count": null,
   "metadata": {},
   "outputs": [],
   "source": [
    "rsp.e_cen"
   ]
  },
  {
   "cell_type": "code",
   "execution_count": null,
   "metadata": {},
   "outputs": [],
   "source": []
  },
  {
   "cell_type": "code",
   "execution_count": null,
   "metadata": {},
   "outputs": [],
   "source": [
    "gaussian_folded_counts = np.dot(gaussian_true_fluxes, tmp)#*3600 / rsp.e_wid"
   ]
  },
  {
   "cell_type": "code",
   "execution_count": null,
   "metadata": {},
   "outputs": [],
   "source": [
    "plt.plot(rsp.e_cen,gaussian_folded_counts)"
   ]
  },
  {
   "cell_type": "code",
   "execution_count": null,
   "metadata": {},
   "outputs": [],
   "source": []
  },
  {
   "cell_type": "code",
   "execution_count": null,
   "metadata": {},
   "outputs": [],
   "source": []
  },
  {
   "cell_type": "code",
   "execution_count": null,
   "metadata": {},
   "outputs": [],
   "source": [
    "result.fit_pars[4]['model_values'].shape"
   ]
  },
  {
   "cell_type": "code",
   "execution_count": null,
   "metadata": {},
   "outputs": [],
   "source": [
    "plt.plot(np.sum(analysis.dataset.binned_data[:,4,:,:].reshape(24,30*1145)[:,background.calc_this[4]].ravel().reshape(24,len(background.calc_this[4])),axis=0))\n",
    "plt.plot(np.sum(np.median(result.fit_pars[4]['model_values'],axis=0).reshape(24,len(background.calc_this[4])),axis=0))"
   ]
  },
  {
   "cell_type": "code",
   "execution_count": null,
   "metadata": {},
   "outputs": [],
   "source": []
  },
  {
   "cell_type": "code",
   "execution_count": null,
   "metadata": {},
   "outputs": [],
   "source": []
  },
  {
   "cell_type": "code",
   "execution_count": null,
   "metadata": {},
   "outputs": [],
   "source": []
  },
  {
   "cell_type": "code",
   "execution_count": null,
   "metadata": {},
   "outputs": [],
   "source": []
  },
  {
   "cell_type": "code",
   "execution_count": null,
   "metadata": {},
   "outputs": [],
   "source": []
  },
  {
   "cell_type": "code",
   "execution_count": null,
   "metadata": {},
   "outputs": [],
   "source": []
  },
  {
   "cell_type": "code",
   "execution_count": null,
   "metadata": {},
   "outputs": [],
   "source": []
  },
  {
   "cell_type": "code",
   "execution_count": null,
   "metadata": {},
   "outputs": [],
   "source": []
  },
  {
   "cell_type": "code",
   "execution_count": null,
   "metadata": {},
   "outputs": [],
   "source": []
  },
  {
   "cell_type": "code",
   "execution_count": null,
   "metadata": {},
   "outputs": [],
   "source": []
  },
  {
   "cell_type": "code",
   "execution_count": null,
   "metadata": {},
   "outputs": [],
   "source": []
  },
  {
   "cell_type": "code",
   "execution_count": null,
   "metadata": {},
   "outputs": [],
   "source": []
  },
  {
   "cell_type": "code",
   "execution_count": null,
   "metadata": {},
   "outputs": [],
   "source": []
  },
  {
   "cell_type": "code",
   "execution_count": null,
   "metadata": {},
   "outputs": [],
   "source": []
  },
  {
   "cell_type": "code",
   "execution_count": null,
   "metadata": {},
   "outputs": [],
   "source": []
  },
  {
   "cell_type": "code",
   "execution_count": null,
   "metadata": {},
   "outputs": [],
   "source": []
  },
  {
   "cell_type": "code",
   "execution_count": null,
   "metadata": {},
   "outputs": [],
   "source": []
  },
  {
   "cell_type": "code",
   "execution_count": null,
   "metadata": {},
   "outputs": [],
   "source": []
  },
  {
   "cell_type": "code",
   "execution_count": null,
   "metadata": {},
   "outputs": [],
   "source": []
  },
  {
   "cell_type": "code",
   "execution_count": null,
   "metadata": {},
   "outputs": [],
   "source": []
  },
  {
   "cell_type": "code",
   "execution_count": null,
   "metadata": {},
   "outputs": [],
   "source": []
  },
  {
   "cell_type": "code",
   "execution_count": null,
   "metadata": {},
   "outputs": [],
   "source": []
  },
  {
   "cell_type": "code",
   "execution_count": null,
   "metadata": {},
   "outputs": [],
   "source": []
  },
  {
   "cell_type": "code",
   "execution_count": null,
   "metadata": {},
   "outputs": [],
   "source": [
    "73464/24"
   ]
  },
  {
   "cell_type": "code",
   "execution_count": null,
   "metadata": {},
   "outputs": [],
   "source": []
  },
  {
   "cell_type": "code",
   "execution_count": null,
   "metadata": {},
   "outputs": [],
   "source": [
    "np.median(result.fit_pars[4]['model_tot'],axis=0)/(analysis.dataset.times.times_wid*2)"
   ]
  },
  {
   "cell_type": "code",
   "execution_count": null,
   "metadata": {},
   "outputs": [],
   "source": [
    "analysis.dataset.times.times_wid"
   ]
  },
  {
   "cell_type": "code",
   "execution_count": null,
   "metadata": {},
   "outputs": [],
   "source": [
    "np.median(result.fit_pars[b]['flux'],axis=0)"
   ]
  },
  {
   "cell_type": "code",
   "execution_count": null,
   "metadata": {},
   "outputs": [],
   "source": [
    "sky_data.dataset.binned_data.shape"
   ]
  },
  {
   "cell_type": "code",
   "execution_count": null,
   "metadata": {},
   "outputs": [],
   "source": []
  },
  {
   "cell_type": "code",
   "execution_count": null,
   "metadata": {},
   "outputs": [],
   "source": []
  },
  {
   "cell_type": "code",
   "execution_count": null,
   "metadata": {},
   "outputs": [],
   "source": [
    "plt.plot(analysis.dataset.times.times_cen[::2],\n",
    "         np.median(result.fit_pars[3]['Abg'],axis=0))"
   ]
  },
  {
   "cell_type": "code",
   "execution_count": null,
   "metadata": {},
   "outputs": [],
   "source": []
  }
 ],
 "metadata": {
  "kernelspec": {
   "display_name": "Python 3",
   "language": "python",
   "name": "python3"
  },
  "language_info": {
   "codemirror_mode": {
    "name": "ipython",
    "version": 3
   },
   "file_extension": ".py",
   "mimetype": "text/x-python",
   "name": "python",
   "nbconvert_exporter": "python",
   "pygments_lexer": "ipython3",
   "version": "3.7.7"
  }
 },
 "nbformat": 4,
 "nbformat_minor": 2
}
