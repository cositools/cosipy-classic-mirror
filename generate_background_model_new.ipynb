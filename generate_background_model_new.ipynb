{
 "cells": [
  {
   "cell_type": "markdown",
   "metadata": {},
   "source": [
    "<h3>Load COSIpy</h3>"
   ]
  },
  {
   "cell_type": "code",
   "execution_count": 1,
   "metadata": {},
   "outputs": [
    {
     "name": "stdout",
     "output_type": "stream",
     "text": [
      "Welcome to JupyROOT 6.22/02\n"
     ]
    },
    {
     "name": "stderr",
     "output_type": "stream",
     "text": [
      "/Users/thomassiegert/MEGAlib/MEGAlib/external/root_v6.22.02/lib/ROOT/_facade.py:121: TqdmExperimentalWarning: Using `tqdm.autonotebook.tqdm` in notebook mode. Use `tqdm.tqdm` instead to force console mode (e.g. in jupyter console)\n",
      "  return _orig_ihook(name, *args, **kwds)\n"
     ]
    }
   ],
   "source": [
    "from COSIpy import *\n",
    "import response"
   ]
  },
  {
   "cell_type": "markdown",
   "metadata": {},
   "source": [
    "<h3>Define energy bins for background model (leave as is)</h3>"
   ]
  },
  {
   "cell_type": "code",
   "execution_count": 2,
   "metadata": {},
   "outputs": [],
   "source": [
    "energy_bin_edges_fine = np.array([143,153,163,173,183,193,203,\n",
    "                                  210,220,230,240,250,260,270,280,290,300,\n",
    "                                  310,320,330,340,350,360,370,380,390,400,\n",
    "                                  410,420,430,440,450,460,473,483,493,500,\n",
    "                                  506,516,526,536,546,556,566,576,586,600,\n",
    "                                  610,620,630,640,650,660,670,680,690,700,\n",
    "                                  710,720,730,740,750,760,770,780,790,800,\n",
    "                                  810,820,830,840,850,860,870,880,890,900,\n",
    "                                  910,920,930,940,950,960,970,980,990,1000,\n",
    "                                 1015,1030,1045,1060,1075,1090,1105,\n",
    "                                 1120,1135,1150,1164,1180,1195,1220,\n",
    "                                 1235,1250,1265,1285,1300,\n",
    "                                 1315,1325,1339,1355,1370,1395,1410,\n",
    "                                 1425,1440,1455,1465,1480,1495,1510,\n",
    "                                 1525,1540,1555,1570,1585,1600,\n",
    "                                 1620,1640,1660,1680,1700,\n",
    "                                 1720,1740,1760,1780,1802,\n",
    "                                 1816,1840,1860,1880,1900,\n",
    "                                 1920,1940,1960,1980,2000,\n",
    "                                 2025,2050,2075,2100,\n",
    "                                 2125,2150,2175,2200,\n",
    "                                 2240,2280,2320,\n",
    "                                 2360,2400,\n",
    "                                 2450,2500,\n",
    "                                 2600,2700,2800,2900,3000,\n",
    "                                 3200,3400,3600,3800,4000,\n",
    "                                 4250,4500,4750,5000])"
   ]
  },
  {
   "cell_type": "markdown",
   "metadata": {},
   "source": [
    "<h3>Read in data:</h3>"
   ]
  },
  {
   "cell_type": "code",
   "execution_count": 3,
   "metadata": {},
   "outputs": [
    {
     "name": "stdout",
     "output_type": "stream",
     "text": [
      "Unable to open file change/to/your/directory//change_to_your_concatenated_file.tra.gz. Aborting!\n",
      "Check your file names.\n",
      "This file does not exist: \"/Users/thomassiegert/python/COSIpy/COSIpy/change/to/your/directory//change_to_your_concatenated_file.tra.gz\"\n"
     ]
    }
   ],
   "source": [
    "# define your pixel size (should be same as response)\n",
    "pixel_size = 6.\n",
    "\n",
    "try:\n",
    "\n",
    "    all_bg_bg_dir = 'change/to/your/directory/'\n",
    "    all_bg_bg_filename = 'change_to_your_concatenated_file.tra.gz'\n",
    "    all_bg_bg_data = COSIpy(all_bg_bg_dir,all_bg_bg_filename)\n",
    "    all_bg_bg_data.read_COSI_DataSet()\n",
    "\n",
    "    maxT = np.diff(minmax(all_bg_bg_data.dataset.data['TimeTags']))\n",
    "    print('Total time in data set: {0} s'.format(maxT))\n",
    "\n",
    "    all_bg_bg_data.dataset.time_binning_tags(time_bin_size=np.ceil(maxT))\n",
    "    all_bg_bg_data.dataset.init_binning(energy_bin_edges=energy_bin_edges_fine,pixel_size=pixel_size)\n",
    "    all_bg_bg_data.dataset.get_binned_data()\n",
    "    \n",
    "except:\n",
    "    \n",
    "    print('Check your file names.')"
   ]
  },
  {
   "cell_type": "markdown",
   "metadata": {},
   "source": [
    "<h3>Save background file</h3>"
   ]
  },
  {
   "cell_type": "code",
   "execution_count": 4,
   "metadata": {},
   "outputs": [
    {
     "name": "stdout",
     "output_type": "stream",
     "text": [
      "Check your values.\n"
     ]
    }
   ],
   "source": [
    "try:\n",
    "\n",
    "    bg_response_flight_all = np.zeros(all_bg_bg_data.dataset.binned_data.shape[1:])\n",
    "\n",
    "    for e in range(len(energy_bin_edges_fine)-1):\n",
    "        bg_response_flight_all[e,:,:] = all_bg_bg_data.dataset.binned_data[0,e,:,:]/\\\n",
    "                                          np.sum(all_bg_bg_data.dataset.binned_data[0,e,:,:])\n",
    "\n",
    "    n_bg_ph_per_bin = np.array([np.sum(all_bg_bg_data.dataset.binned_data[0,i,:,:]) for i in range(len(energy_bin_edges_fine)-1)])\n",
    "\n",
    "    np.savez_compressed('change_to_your_filename.npz',\n",
    "                        bg_response = bg_response_flight_all,\n",
    "                        energy_bin_edges = energy_bin_edges_fine,\n",
    "                        n_bg_ph_per_bin = n_bg_ph_per_bin)\n",
    "    \n",
    "except:\n",
    "    \n",
    "    print('Check your values.')"
   ]
  },
  {
   "cell_type": "code",
   "execution_count": null,
   "metadata": {},
   "outputs": [],
   "source": []
  },
  {
   "cell_type": "code",
   "execution_count": null,
   "metadata": {},
   "outputs": [],
   "source": []
  }
 ],
 "metadata": {
  "kernelspec": {
   "display_name": "Python 3",
   "language": "python",
   "name": "python3"
  },
  "language_info": {
   "codemirror_mode": {
    "name": "ipython",
    "version": 3
   },
   "file_extension": ".py",
   "mimetype": "text/x-python",
   "name": "python",
   "nbconvert_exporter": "python",
   "pygments_lexer": "ipython3",
   "version": "3.7.8"
  }
 },
 "nbformat": 4,
 "nbformat_minor": 2
}
