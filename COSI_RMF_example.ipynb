{
 "cells": [
  {
   "cell_type": "markdown",
   "metadata": {},
   "source": [
    "<h1>Getting the RMF matrices from the COSI response for input input source position</h1>"
   ]
  },
  {
   "cell_type": "markdown",
   "metadata": {},
   "source": [
    "<h3>Import COSIpy and stuff</h3>"
   ]
  },
  {
   "cell_type": "code",
   "execution_count": 26,
   "metadata": {},
   "outputs": [],
   "source": [
    "from COSIpy import *\n",
    "import response\n",
    "plt.style.use('thomas')"
   ]
  },
  {
   "cell_type": "code",
   "execution_count": 27,
   "metadata": {},
   "outputs": [],
   "source": [
    "plt.style.use('thomas')"
   ]
  },
  {
   "cell_type": "markdown",
   "metadata": {},
   "source": [
    "<h3>Load file with matrices and other infor included</h3>"
   ]
  },
  {
   "cell_type": "code",
   "execution_count": 28,
   "metadata": {},
   "outputs": [],
   "source": [
    "with np.load('RMF_matrices_COSI2016_9dets_10ebins_6deg.npz') as rmf:\n",
    "    rmf_matrices = rmf['rmf_matrices']\n",
    "    e_edges = rmf['e_edges']\n",
    "    e_cen = rmf['e_cen']\n",
    "    e_wid = rmf['e_wid']\n",
    "    e_min = rmf['e_min']\n",
    "    e_max = rmf['e_max']\n",
    "    z_edges = rmf['z_edges']\n",
    "    z_cen = rmf['z_cen']\n",
    "    z_wid = rmf['z_wid']\n",
    "    z_min = rmf['z_min']\n",
    "    z_max = rmf['z_max']\n",
    "    a_edges = rmf['z_edges']\n",
    "    a_cen = rmf['z_cen']\n",
    "    a_wid = rmf['z_wid']\n",
    "    a_min = rmf['z_min']\n",
    "    a_max = rmf['z_max']\n",
    "    pixel_size = rmf['pixel_size']"
   ]
  },
  {
   "cell_type": "markdown",
   "metadata": {},
   "source": [
    "<h3>Shape of matrix array</h3>"
   ]
  },
  {
   "cell_type": "code",
   "execution_count": 35,
   "metadata": {},
   "outputs": [
    {
     "data": {
      "text/plain": [
       "(10, 10, 60, 30)"
      ]
     },
     "execution_count": 35,
     "metadata": {},
     "output_type": "execute_result"
    }
   ],
   "source": [
    "rmf_matrices.shape"
   ]
  },
  {
   "cell_type": "code",
   "execution_count": 36,
   "metadata": {},
   "outputs": [],
   "source": [
    "# e_initial, e_measured, azimuth, zenith"
   ]
  },
  {
   "cell_type": "code",
   "execution_count": null,
   "metadata": {},
   "outputs": [],
   "source": []
  },
  {
   "cell_type": "markdown",
   "metadata": {},
   "source": [
    "<h3>Source position</h3>"
   ]
  },
  {
   "cell_type": "code",
   "execution_count": 37,
   "metadata": {},
   "outputs": [],
   "source": [
    "l_src, b_src = -120., 25."
   ]
  },
  {
   "cell_type": "markdown",
   "metadata": {},
   "source": [
    "<h3>Pointing information (in COSIpy included in the Pointing class)</h3>"
   ]
  },
  {
   "cell_type": "code",
   "execution_count": 38,
   "metadata": {},
   "outputs": [],
   "source": [
    "xpl, xpb = 154.179, -0.21551300000000492\n",
    "ypl, ypb = 63.02699373828368, -79.40305491412697\n",
    "zpl, zpb = -115.78000000000003, -10.5947"
   ]
  },
  {
   "cell_type": "markdown",
   "metadata": {},
   "source": [
    "<h3>Calculating zenith and azimuth from source position and pointing information</h3>"
   ]
  },
  {
   "cell_type": "code",
   "execution_count": 39,
   "metadata": {},
   "outputs": [],
   "source": [
    "zen,azi = response.zenazi(xpl,xpb,\n",
    "                          ypl,xpb,\n",
    "                          zpl,zpb,\n",
    "                          l_src,b_src)"
   ]
  },
  {
   "cell_type": "code",
   "execution_count": 40,
   "metadata": {},
   "outputs": [
    {
     "data": {
      "text/plain": [
       "(35.83176821492462, 274.06649675637647)"
      ]
     },
     "execution_count": 40,
     "metadata": {},
     "output_type": "execute_result"
    }
   ],
   "source": [
    "zen,azi"
   ]
  },
  {
   "cell_type": "markdown",
   "metadata": {},
   "source": [
    "<h3>Get index in matrix array for this zenith and azimuth combination (look-up, not interpolated)</h3>"
   ]
  },
  {
   "cell_type": "code",
   "execution_count": 41,
   "metadata": {},
   "outputs": [],
   "source": [
    "# zenith indices of response\n",
    "zidx = np.floor(zen/pixel_size).astype(int)\n",
    "# azimuth indices of response\n",
    "aidx = np.floor(pixel_size).astype(int)\n",
    "\n",
    "# remove out of bounds indices\n",
    "#weights = np.ones(1)\n",
    "#zidx[zidx < 0] = 0.\n",
    "#weights[zidx < 0] = 0.\n",
    "#aidx[aidx < 0] = 0.\n",
    "#weights[aidx < 0] = 0."
   ]
  },
  {
   "cell_type": "code",
   "execution_count": 42,
   "metadata": {},
   "outputs": [
    {
     "data": {
      "text/plain": [
       "(5, 6)"
      ]
     },
     "execution_count": 42,
     "metadata": {},
     "output_type": "execute_result"
    }
   ],
   "source": [
    "zidx,aidx"
   ]
  },
  {
   "cell_type": "code",
   "execution_count": null,
   "metadata": {},
   "outputs": [],
   "source": []
  },
  {
   "cell_type": "markdown",
   "metadata": {},
   "source": [
    "<h3>Plotting matrix</h3>"
   ]
  },
  {
   "cell_type": "code",
   "execution_count": 44,
   "metadata": {},
   "outputs": [
    {
     "data": {
      "text/plain": [
       "Text(0, 0.5, 'Measured Energy [keV]')"
      ]
     },
     "execution_count": 44,
     "metadata": {},
     "output_type": "execute_result"
    },
    {
     "data": {
      "image/png": "[encoded data removed]",
      "text/plain": [
       "<Figure size 576x432 with 2 Axes>"
      ]
     },
     "metadata": {
      "needs_background": "light"
     },
     "output_type": "display_data"
    }
   ],
   "source": [
    "plt.pcolormesh(e_edges,e_edges,rmf_matrices[:,:,aidx,zidx])\n",
    "plt.xscale('log')\n",
    "plt.yscale('log')\n",
    "plt.colorbar()\n",
    "plt.xlabel('Initial Energy [keV]')\n",
    "plt.ylabel('Measured Energy [keV]')"
   ]
  },
  {
   "cell_type": "code",
   "execution_count": null,
   "metadata": {},
   "outputs": [],
   "source": []
  }
 ],
 "metadata": {
  "kernelspec": {
   "display_name": "Python 3",
   "language": "python",
   "name": "python3"
  },
  "language_info": {
   "codemirror_mode": {
    "name": "ipython",
    "version": 3
   },
   "file_extension": ".py",
   "mimetype": "text/x-python",
   "name": "python",
   "nbconvert_exporter": "python",
   "pygments_lexer": "ipython3",
   "version": "3.7.7"
  }
 },
 "nbformat": 4,
 "nbformat_minor": 2
}
