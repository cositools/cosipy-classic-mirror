{
 "cells": [
  {
   "cell_type": "code",
   "execution_count": 1,
   "metadata": {},
   "outputs": [
    {
     "name": "stderr",
     "output_type": "stream",
     "text": [
      "/usr/local/Cellar/python/3.7.7/Frameworks/Python.framework/Versions/3.7/lib/python3.7/site-packages/tqdm/autonotebook/__init__.py:14: TqdmExperimentalWarning: Using `tqdm.autonotebook.tqdm` in notebook mode. Use `tqdm.tqdm` instead to force console mode (e.g. in jupyter console)\n",
      "  \" (e.g. in jupyter console)\", TqdmExperimentalWarning)\n"
     ]
    }
   ],
   "source": [
    "import matplotlib.pyplot as plt\n",
    "import numpy as np\n",
    "from tqdm.autonotebook import tqdm\n",
    "import pandas as pd\n",
    "plt.style.use('thomas')"
   ]
  },
  {
   "cell_type": "code",
   "execution_count": 2,
   "metadata": {},
   "outputs": [
    {
     "name": "stdout",
     "output_type": "stream",
     "text": [
      "Welcome to JupyROOT 6.14/08\n"
     ]
    }
   ],
   "source": [
    "import response\n",
    "plt.style.use('thomas')"
   ]
  },
  {
   "cell_type": "code",
   "execution_count": null,
   "metadata": {},
   "outputs": [],
   "source": []
  },
  {
   "cell_type": "code",
   "execution_count": 3,
   "metadata": {},
   "outputs": [],
   "source": [
    "continuum_rsp_file = 'response/COSI2016_6deg_10ebins.p1.binnedimaging.imagingresponse.rsp.gz'"
   ]
  },
  {
   "cell_type": "code",
   "execution_count": 4,
   "metadata": {},
   "outputs": [],
   "source": [
    "test = response.SkyResponse(continuum_rsp_file,\n",
    "                            pixel_size=6,from_saved_file=False)"
   ]
  },
  {
   "cell_type": "code",
   "execution_count": 5,
   "metadata": {},
   "outputs": [
    {
     "name": "stdout",
     "output_type": "stream",
     "text": [
      "Number of energy bins is 10; the last two entries of the response matrix will be initial and final energy, respectively ...\n",
      "Interpolationg between data set energy binning and response energy bining happens at a later step!\n"
     ]
    },
    {
     "data": {
      "application/vnd.jupyter.widget-view+json": {
       "model_id": "8bd079c852f8447b95bf7d45e1322cce",
       "version_major": 2,
       "version_minor": 0
      },
      "text/plain": [
       "HBox(children=(IntProgress(value=0, max=33774238), HTML(value='')))"
      ]
     },
     "metadata": {},
     "output_type": "display_data"
    },
    {
     "name": "stdout",
     "output_type": "stream",
     "text": [
      "\n"
     ]
    }
   ],
   "source": [
    "test.ReadMEGAlibResponse()"
   ]
  },
  {
   "cell_type": "code",
   "execution_count": 6,
   "metadata": {},
   "outputs": [
    {
     "data": {
      "text/plain": [
       "(1145, 30, 1145, 10, 10)"
      ]
     },
     "execution_count": 6,
     "metadata": {},
     "output_type": "execute_result"
    }
   ],
   "source": [
    "test.rsp.response.shape"
   ]
  },
  {
   "cell_type": "code",
   "execution_count": 7,
   "metadata": {},
   "outputs": [
    {
     "data": {
      "text/plain": [
       "29.303692281246185"
      ]
     },
     "execution_count": 7,
     "metadata": {},
     "output_type": "execute_result"
    }
   ],
   "source": [
    "(test.rsp.response.size * test.rsp.response.itemsize)/1024/1024/1024"
   ]
  },
  {
   "cell_type": "code",
   "execution_count": null,
   "metadata": {},
   "outputs": [],
   "source": []
  },
  {
   "cell_type": "code",
   "execution_count": 8,
   "metadata": {},
   "outputs": [
    {
     "name": "stdout",
     "output_type": "stream",
     "text": [
      "Now calculating mapping function ...\n"
     ]
    },
    {
     "data": {
      "application/vnd.jupyter.widget-view+json": {
       "model_id": "91528e575cf74c95a84156c11c2b495f",
       "version_major": 2,
       "version_minor": 0
      },
      "text/plain": [
       "HBox(children=(IntProgress(value=0, max=30), HTML(value='')))"
      ]
     },
     "metadata": {},
     "output_type": "display_data"
    },
    {
     "name": "stdout",
     "output_type": "stream",
     "text": [
      "\n",
      "Applying mapping function to all response entries, 30 phi bins times 1145 FISBEL bins, i.e. 34350 bins in total ...\n"
     ]
    },
    {
     "data": {
      "application/vnd.jupyter.widget-view+json": {
       "model_id": "3a9a190878e7422da3689a64774edc49",
       "version_major": 2,
       "version_minor": 0
      },
      "text/plain": [
       "HBox(children=(IntProgress(value=0, max=30), HTML(value='')))"
      ]
     },
     "metadata": {},
     "output_type": "display_data"
    },
    {
     "name": "stdout",
     "output_type": "stream",
     "text": [
      "\n",
      "Binned sky response contains 143372 (417.3857350800582%) non-zero entries: use reduced data space to save fit in fits!\n"
     ]
    }
   ],
   "source": [
    "test.RebinToSquarePixelGrid(RegularPixelSize=6.)"
   ]
  },
  {
   "cell_type": "code",
   "execution_count": 9,
   "metadata": {},
   "outputs": [
    {
     "data": {
      "text/plain": [
       "(30, 60, 30, 1145, 10, 10)"
      ]
     },
     "execution_count": 9,
     "metadata": {},
     "output_type": "execute_result"
    }
   ],
   "source": [
    "test.rsp.response_grid_normed.shape"
   ]
  },
  {
   "cell_type": "code",
   "execution_count": 10,
   "metadata": {},
   "outputs": [
    {
     "data": {
      "text/plain": [
       "46.06693983078003"
      ]
     },
     "execution_count": 10,
     "metadata": {},
     "output_type": "execute_result"
    }
   ],
   "source": [
    "(test.rsp.response_grid_normed.size * test.rsp.response_grid_normed.itemsize)/1024/1024/1024"
   ]
  },
  {
   "cell_type": "code",
   "execution_count": null,
   "metadata": {},
   "outputs": [],
   "source": []
  },
  {
   "cell_type": "code",
   "execution_count": 11,
   "metadata": {},
   "outputs": [],
   "source": [
    "test.SaveRegularBinnedMEGAlibResponse('response/RegularResponseGrid_Continuum_10bins_v1.npz')"
   ]
  },
  {
   "cell_type": "code",
   "execution_count": null,
   "metadata": {},
   "outputs": [],
   "source": []
  },
  {
   "cell_type": "code",
   "execution_count": 12,
   "metadata": {},
   "outputs": [
    {
     "ename": "SyntaxError",
     "evalue": "'break' outside loop (<ipython-input-12-6aaf1f276005>, line 4)",
     "output_type": "error",
     "traceback": [
      "\u001b[0;36m  File \u001b[0;32m\"<ipython-input-12-6aaf1f276005>\"\u001b[0;36m, line \u001b[0;32m4\u001b[0m\n\u001b[0;31mSyntaxError\u001b[0m\u001b[0;31m:\u001b[0m 'break' outside loop\n"
     ]
    }
   ],
   "source": [
    "break"
   ]
  },
  {
   "cell_type": "code",
   "execution_count": null,
   "metadata": {},
   "outputs": [],
   "source": []
  },
  {
   "cell_type": "code",
   "execution_count": null,
   "metadata": {},
   "outputs": [],
   "source": [
    "\"\"\"test2 = response.SkyResponse('response/RegularResponseGrid_Continuum_v1.npz',\n",
    "                                pixel_size=6,from_saved_file=True)\"\"\""
   ]
  },
  {
   "cell_type": "code",
   "execution_count": null,
   "metadata": {},
   "outputs": [],
   "source": [
    "\"\"\"test2.rsp.response_grid_normed.shape\"\"\""
   ]
  },
  {
   "cell_type": "code",
   "execution_count": null,
   "metadata": {},
   "outputs": [],
   "source": []
  },
  {
   "cell_type": "code",
   "execution_count": null,
   "metadata": {},
   "outputs": [],
   "source": []
  },
  {
   "cell_type": "code",
   "execution_count": null,
   "metadata": {},
   "outputs": [],
   "source": []
  },
  {
   "cell_type": "code",
   "execution_count": null,
   "metadata": {},
   "outputs": [],
   "source": []
  },
  {
   "cell_type": "code",
   "execution_count": null,
   "metadata": {},
   "outputs": [],
   "source": []
  },
  {
   "cell_type": "code",
   "execution_count": 12,
   "metadata": {},
   "outputs": [
    {
     "data": {
      "text/plain": [
       "Text(0, 0.5, 'zenith [rad]')"
      ]
     },
     "execution_count": 12,
     "metadata": {},
     "output_type": "execute_result"
    },
    {
     "data": {
      "image/png": "[encoded data removed]",
      "text/plain": [
       "<Figure size 576x432 with 1 Axes>"
      ]
     },
     "metadata": {
      "needs_background": "light"
     },
     "output_type": "display_data"
    }
   ],
   "source": [
    "plt.pcolormesh(test.l_edges,test.b_edges,test.rsp.mapping_function[218,:,:])\n",
    "plt.xlabel('azimuth [rad]')\n",
    "plt.ylabel('zenith [rad]')"
   ]
  },
  {
   "cell_type": "code",
   "execution_count": 13,
   "metadata": {},
   "outputs": [
    {
     "data": {
      "text/plain": [
       "(30, 60, 30, 1145, 10, 10)"
      ]
     },
     "execution_count": 13,
     "metadata": {},
     "output_type": "execute_result"
    }
   ],
   "source": [
    "test.rsp.response_grid_normed.shape"
   ]
  },
  {
   "cell_type": "code",
   "execution_count": 18,
   "metadata": {},
   "outputs": [
    {
     "data": {
      "text/plain": [
       "Text(0, 0.5, 'zenith [rad]')"
      ]
     },
     "execution_count": 18,
     "metadata": {},
     "output_type": "execute_result"
    },
    {
     "data": {
      "image/png": "[encoded data removed]",
      "text/plain": [
       "<Figure size 576x432 with 2 Axes>"
      ]
     },
     "metadata": {
      "needs_background": "light"
     },
     "output_type": "display_data"
    }
   ],
   "source": [
    "plt.pcolormesh(test.l_edges,test.b_edges,test.rsp.response_grid_normed[:,:,5,180,2,0])\n",
    "plt.colorbar(label=r'$\\mathrm{cm^2\\,sr^{-1}}$')\n",
    "plt.xlabel('azimuth [rad]')\n",
    "plt.ylabel('zenith [rad]')"
   ]
  },
  {
   "cell_type": "code",
   "execution_count": 21,
   "metadata": {},
   "outputs": [
    {
     "data": {
      "image/png": "[encoded data removed]",
      "text/plain": [
       "<Figure size 1152x648 with 2 Axes>"
      ]
     },
     "metadata": {
      "needs_background": "light"
     },
     "output_type": "display_data"
    }
   ],
   "source": [
    "test.rsp.fisbels.plot_FISBEL_tessellation(tiles=True,\n",
    "                                          values=(test.rsp.response[30,5,:,2,2]/(test.total_simulated_counts/(4*np.pi))*test.simulation_start_area),\n",
    "                                          colorbar=True)"
   ]
  },
  {
   "cell_type": "code",
   "execution_count": null,
   "metadata": {},
   "outputs": [],
   "source": []
  },
  {
   "cell_type": "code",
   "execution_count": null,
   "metadata": {},
   "outputs": [],
   "source": []
  },
  {
   "cell_type": "code",
   "execution_count": null,
   "metadata": {},
   "outputs": [],
   "source": []
  },
  {
   "cell_type": "code",
   "execution_count": 22,
   "metadata": {},
   "outputs": [
    {
     "data": {
      "text/plain": [
       "12.566369999999623"
      ]
     },
     "execution_count": 22,
     "metadata": {},
     "output_type": "execute_result"
    }
   ],
   "source": [
    "np.sum(test.fisbel_area)"
   ]
  },
  {
   "cell_type": "code",
   "execution_count": 23,
   "metadata": {},
   "outputs": [
    {
     "data": {
      "text/plain": [
       "12.566370614359172"
      ]
     },
     "execution_count": 23,
     "metadata": {},
     "output_type": "execute_result"
    }
   ],
   "source": [
    "np.sum(test.regular_pixel_area)"
   ]
  },
  {
   "cell_type": "code",
   "execution_count": 25,
   "metadata": {},
   "outputs": [
    {
     "data": {
      "text/plain": [
       "9.087917780998428e-06"
      ]
     },
     "execution_count": 25,
     "metadata": {},
     "output_type": "execute_result"
    }
   ],
   "source": [
    "np.sum(test.rsp.response[:,5,180,2,2]/(test.total_simulated_counts/(4*np.pi))*test.simulation_start_area)"
   ]
  },
  {
   "cell_type": "code",
   "execution_count": 26,
   "metadata": {},
   "outputs": [
    {
     "data": {
      "text/plain": [
       "9.087917780998428e-06"
      ]
     },
     "execution_count": 26,
     "metadata": {},
     "output_type": "execute_result"
    }
   ],
   "source": [
    "np.sum(test.rsp.response_grid_normed[:,:,5,180,2,2]*test.regular_pixel_area)"
   ]
  },
  {
   "cell_type": "code",
   "execution_count": 27,
   "metadata": {},
   "outputs": [
    {
     "data": {
      "text/plain": [
       "<matplotlib.collections.QuadMesh at 0x12ca97750>"
      ]
     },
     "execution_count": 27,
     "metadata": {},
     "output_type": "execute_result"
    },
    {
     "data": {
      "image/png": "[encoded data removed]",
      "text/plain": [
       "<Figure size 576x432 with 1 Axes>"
      ]
     },
     "metadata": {
      "needs_background": "light"
     },
     "output_type": "display_data"
    }
   ],
   "source": [
    "plt.pcolormesh(test.regular_pixel_area)"
   ]
  },
  {
   "cell_type": "code",
   "execution_count": 28,
   "metadata": {},
   "outputs": [
    {
     "data": {
      "image/png": "[encoded data removed]",
      "text/plain": [
       "<Figure size 1152x648 with 2 Axes>"
      ]
     },
     "metadata": {
      "needs_background": "light"
     },
     "output_type": "display_data"
    }
   ],
   "source": [
    "test.rsp.fisbels.plot_FISBEL_tessellation(tiles=True,\n",
    "                                          values=np.array(test.fisbel_area),\n",
    "                                          colorbar=True)"
   ]
  },
  {
   "cell_type": "code",
   "execution_count": null,
   "metadata": {},
   "outputs": [],
   "source": []
  },
  {
   "cell_type": "code",
   "execution_count": null,
   "metadata": {},
   "outputs": [],
   "source": []
  },
  {
   "cell_type": "code",
   "execution_count": null,
   "metadata": {},
   "outputs": [],
   "source": []
  },
  {
   "cell_type": "code",
   "execution_count": null,
   "metadata": {},
   "outputs": [],
   "source": []
  },
  {
   "cell_type": "code",
   "execution_count": null,
   "metadata": {},
   "outputs": [],
   "source": []
  },
  {
   "cell_type": "code",
   "execution_count": 29,
   "metadata": {},
   "outputs": [
    {
     "data": {
      "text/plain": [
       "449.02516648287946"
      ]
     },
     "execution_count": 29,
     "metadata": {},
     "output_type": "execute_result"
    }
   ],
   "source": [
    "np.sum(test.rsp.response_grid_normed)"
   ]
  },
  {
   "cell_type": "code",
   "execution_count": 30,
   "metadata": {},
   "outputs": [
    {
     "data": {
      "text/plain": [
       "(30, 60, 30, 1145, 10, 10)"
      ]
     },
     "execution_count": 30,
     "metadata": {},
     "output_type": "execute_result"
    }
   ],
   "source": [
    "test.rsp.response_grid_normed.shape"
   ]
  },
  {
   "cell_type": "code",
   "execution_count": 31,
   "metadata": {},
   "outputs": [],
   "source": [
    "tmp = np.sum(test.rsp.response_grid_normed,axis=4)"
   ]
  },
  {
   "cell_type": "code",
   "execution_count": 32,
   "metadata": {},
   "outputs": [
    {
     "data": {
      "text/plain": [
       "(30, 60, 30, 1145, 10)"
      ]
     },
     "execution_count": 32,
     "metadata": {},
     "output_type": "execute_result"
    }
   ],
   "source": [
    "tmp.shape"
   ]
  },
  {
   "cell_type": "code",
   "execution_count": 45,
   "metadata": {},
   "outputs": [
    {
     "data": {
      "text/plain": [
       "Text(0, 0.5, 'zenith [rad]')"
      ]
     },
     "execution_count": 45,
     "metadata": {},
     "output_type": "execute_result"
    },
    {
     "data": {
      "image/png": "[encoded data removed]",
      "text/plain": [
       "<Figure size 576x432 with 2 Axes>"
      ]
     },
     "metadata": {
      "needs_background": "light"
     },
     "output_type": "display_data"
    }
   ],
   "source": [
    "plt.pcolormesh(test.l_edges,test.b_edges,tmp[:,:,5,180,9])\n",
    "plt.colorbar(label=r'$\\mathrm{cm^2\\,sr^{-1}}$')\n",
    "plt.xlabel('azimuth [rad]')\n",
    "plt.ylabel('zenith [rad]')"
   ]
  },
  {
   "cell_type": "code",
   "execution_count": null,
   "metadata": {},
   "outputs": [],
   "source": []
  },
  {
   "cell_type": "code",
   "execution_count": 46,
   "metadata": {},
   "outputs": [],
   "source": [
    "energy_bins = np.logspace(np.log10(130),np.log10(2500),10)"
   ]
  },
  {
   "cell_type": "code",
   "execution_count": 47,
   "metadata": {},
   "outputs": [
    {
     "data": {
      "text/plain": [
       "array([ 130.        ,  180.55505316,  250.77020941,  348.29098839,\n",
       "        483.73613789,  671.85387765,  933.1277892 , 1296.00721222,\n",
       "       1800.00500848, 2500.        ])"
      ]
     },
     "execution_count": 47,
     "metadata": {},
     "output_type": "execute_result"
    }
   ],
   "source": [
    "energy_bins"
   ]
  },
  {
   "cell_type": "code",
   "execution_count": 48,
   "metadata": {},
   "outputs": [],
   "source": [
    "def find_nearest(array, value):\n",
    "    \"\"\"\n",
    "    Find nearest index for value in array (where for non-existent values)\n",
    "    :param: array   Input array\n",
    "    :param: value   value to search for\n",
    "    \"\"\"\n",
    "    array = np.asarray(array)\n",
    "    idx = (np.abs(array - value)).argmin()\n",
    "    return idx"
   ]
  },
  {
   "cell_type": "code",
   "execution_count": 49,
   "metadata": {},
   "outputs": [
    {
     "data": {
      "text/plain": [
       "[0, 0, 1, 2, 3, 4, 5, 6, 7, 8]"
      ]
     },
     "execution_count": 49,
     "metadata": {},
     "output_type": "execute_result"
    }
   ],
   "source": [
    "[find_nearest(test.e_cen,erg) for erg in energy_bins]"
   ]
  },
  {
   "cell_type": "code",
   "execution_count": 50,
   "metadata": {},
   "outputs": [
    {
     "data": {
      "text/plain": [
       "array([ 150,  220,  325,  480,  520,  765, 1120, 1650, 2350, 3450, 5000])"
      ]
     },
     "execution_count": 50,
     "metadata": {},
     "output_type": "execute_result"
    }
   ],
   "source": [
    "test.e_edges\n",
    "#print(test.e_cen)"
   ]
  },
  {
   "cell_type": "code",
   "execution_count": 51,
   "metadata": {},
   "outputs": [
    {
     "name": "stdout",
     "output_type": "stream",
     "text": [
      "[ 130.          180.55505316  250.77020941  348.29098839  483.73613789\n",
      "  671.85387765  933.1277892  1296.00721222 1800.00500848 2500.        ]\n",
      "[ -55.           -4.44494684  -21.72979059  -54.20901161  -16.26386211\n",
      "   29.35387765   -9.3722108   -88.99278778 -199.99499152 -400.        ]\n"
     ]
    }
   ],
   "source": [
    "print(energy_bins)\n",
    "print((energy_bins - test.e_cen[[find_nearest(test.e_cen,erg) for erg in energy_bins]]))\n"
   ]
  },
  {
   "cell_type": "code",
   "execution_count": 53,
   "metadata": {},
   "outputs": [
    {
     "data": {
      "text/plain": [
       "Text(0, 0.5, 'Initial Energy [keV]')"
      ]
     },
     "execution_count": 53,
     "metadata": {},
     "output_type": "execute_result"
    },
    {
     "data": {
      "image/png": "[encoded data removed]",
      "text/plain": [
       "<Figure size 576x432 with 1 Axes>"
      ]
     },
     "metadata": {
      "needs_background": "light"
     },
     "output_type": "display_data"
    }
   ],
   "source": [
    "for i in range(len(energy_bins)):\n",
    "    plt.plot(energy_bins[i],test.e_cen[find_nearest(test.e_cen,energy_bins[i])],'ko',label='Analysis Bins')\n",
    "plt.xscale('log')\n",
    "plt.yscale('log')\n",
    "plt.xlim(100,3000)\n",
    "plt.ylim(100,3000)\n",
    "\n",
    "for i in range(test.n_e):\n",
    "    plt.fill_between([test.e_min[i],test.e_min[i],test.e_max[i],test.e_max[i],test.e_min[i]],\n",
    "                     [test.e_min[i],test.e_max[i],test.e_max[i],test.e_min[i],test.e_min[i]],color='red',alpha=0.3)\n",
    "    \n",
    "plt.xlabel('Measured Energy [keV]')\n",
    "plt.ylabel('Initial Energy [keV]')\n",
    "#plt.legend()"
   ]
  },
  {
   "cell_type": "code",
   "execution_count": 54,
   "metadata": {},
   "outputs": [
    {
     "data": {
      "text/plain": [
       "array([ 185. ,  272.5,  402.5,  500. ,  642.5,  942.5, 1385. , 2000. ,\n",
       "       2900. , 4225. ])"
      ]
     },
     "execution_count": 54,
     "metadata": {},
     "output_type": "execute_result"
    }
   ],
   "source": [
    "test.e_cen"
   ]
  },
  {
   "cell_type": "code",
   "execution_count": null,
   "metadata": {},
   "outputs": [],
   "source": []
  },
  {
   "cell_type": "code",
   "execution_count": 36,
   "metadata": {},
   "outputs": [],
   "source": [
    "tmp = np.sum(test.rsp.response_grid_normed,axis=(0,1,2,3))"
   ]
  },
  {
   "cell_type": "code",
   "execution_count": 37,
   "metadata": {},
   "outputs": [
    {
     "data": {
      "text/plain": [
       "(30, 1145, 3, 3)"
      ]
     },
     "execution_count": 37,
     "metadata": {},
     "output_type": "execute_result"
    }
   ],
   "source": [
    "test.rsp.response_grid_normed[0,29,:,:,:,:].shape"
   ]
  },
  {
   "cell_type": "code",
   "execution_count": 71,
   "metadata": {},
   "outputs": [],
   "source": [
    "tmp = np.sum(test.rsp.response_grid_normed[:,:,:,:,:,:],axis=(0,1,2,3))"
   ]
  },
  {
   "cell_type": "code",
   "execution_count": 72,
   "metadata": {},
   "outputs": [
    {
     "data": {
      "text/plain": [
       "(10, 10)"
      ]
     },
     "execution_count": 72,
     "metadata": {},
     "output_type": "execute_result"
    }
   ],
   "source": [
    "tmp.shape"
   ]
  },
  {
   "cell_type": "code",
   "execution_count": 73,
   "metadata": {},
   "outputs": [
    {
     "data": {
      "text/plain": [
       "array([[1.99258477e-01, 3.79504332e-03, 0.00000000e+00, 0.00000000e+00,\n",
       "        0.00000000e+00, 0.00000000e+00, 0.00000000e+00, 0.00000000e+00,\n",
       "        0.00000000e+00, 0.00000000e+00],\n",
       "       [1.06461660e-01, 2.21933087e+00, 1.99198507e-02, 0.00000000e+00,\n",
       "        0.00000000e+00, 0.00000000e+00, 0.00000000e+00, 0.00000000e+00,\n",
       "        0.00000000e+00, 0.00000000e+00],\n",
       "       [1.60911958e-01, 1.13319046e+00, 7.60218066e+00, 4.25551205e-02,\n",
       "        0.00000000e+00, 0.00000000e+00, 0.00000000e+00, 0.00000000e+00,\n",
       "        0.00000000e+00, 0.00000000e+00],\n",
       "       [3.11591052e-02, 3.05392364e-01, 7.31089392e-01, 2.14866243e+00,\n",
       "        4.68215093e-02, 0.00000000e+00, 0.00000000e+00, 0.00000000e+00,\n",
       "        0.00000000e+00, 0.00000000e+00],\n",
       "       [1.46406457e-01, 1.08781733e+00, 4.84108223e+00, 1.67911952e+00,\n",
       "        1.79366094e+01, 5.72603380e-02, 0.00000000e+00, 0.00000000e+00,\n",
       "        0.00000000e+00, 0.00000000e+00],\n",
       "       [1.47728768e-01, 9.58184221e-01, 3.06569698e+00, 1.16853540e+00,\n",
       "        1.26191231e+01, 2.81970701e+01, 6.63642735e-02, 0.00000000e+00,\n",
       "        0.00000000e+00, 0.00000000e+00],\n",
       "       [1.76394911e-01, 1.06408500e+00, 2.79168030e+00, 9.51521964e-01,\n",
       "        6.42366570e+00, 1.95668036e+01, 4.67128073e+01, 8.13783324e-02,\n",
       "        0.00000000e+00, 0.00000000e+00],\n",
       "       [2.20636675e-01, 1.29799507e+00, 2.99133520e+00, 1.08030285e+00,\n",
       "        5.39316648e+00, 8.12874620e+00, 2.84678981e+01, 4.70113786e+01,\n",
       "        4.98365288e-02, 0.00000000e+00],\n",
       "       [3.80685396e-01, 2.32701568e+00, 5.79396546e+00, 3.12149255e+00,\n",
       "        1.00143540e+01, 1.10323034e+01, 1.45333222e+01, 2.19338234e+01,\n",
       "        2.56172163e+01, 1.38719347e-02],\n",
       "       [5.20116668e-01, 3.11516696e+00, 7.75806916e+00, 5.98693050e+00,\n",
       "        1.34278044e+01, 1.49229866e+01, 1.89882910e+01, 1.51036895e+01,\n",
       "        1.11807989e+01, 4.12190252e+00]])"
      ]
     },
     "execution_count": 73,
     "metadata": {},
     "output_type": "execute_result"
    }
   ],
   "source": [
    "tmp"
   ]
  },
  {
   "cell_type": "code",
   "execution_count": 74,
   "metadata": {},
   "outputs": [
    {
     "data": {
      "image/png": "[encoded data removed]",
      "text/plain": [
       "<Figure size 576x432 with 1 Axes>"
      ]
     },
     "metadata": {
      "needs_background": "light"
     },
     "output_type": "display_data"
    }
   ],
   "source": [
    "plt.errorbar(test.e_cen,np.diag(tmp)/test.e_wid,xerr=test.e_wid/2,marker='o',linestyle='')\n",
    "plt.xscale('log')\n",
    "#plt.xlim(150,2500)"
   ]
  },
  {
   "cell_type": "code",
   "execution_count": 75,
   "metadata": {},
   "outputs": [
    {
     "data": {
      "text/plain": [
       "<matplotlib.colorbar.Colorbar at 0x12d3e2c50>"
      ]
     },
     "execution_count": 75,
     "metadata": {},
     "output_type": "execute_result"
    },
    {
     "data": {
      "image/png": "[encoded data removed]",
      "text/plain": [
       "<Figure size 576x432 with 2 Axes>"
      ]
     },
     "metadata": {
      "needs_background": "light"
     },
     "output_type": "display_data"
    }
   ],
   "source": [
    "plt.pcolormesh(test.e_edges,test.e_edges,tmp.T/(test.e_wid),\n",
    "              cmap=plt.cm.plasma)\n",
    "plt.xscale('log')\n",
    "plt.yscale('log')\n",
    "plt.colorbar()\n",
    "#plt.xlim(100,5000)\n",
    "#plt.ylim(100,5000)"
   ]
  },
  {
   "cell_type": "code",
   "execution_count": null,
   "metadata": {},
   "outputs": [],
   "source": []
  },
  {
   "cell_type": "code",
   "execution_count": null,
   "metadata": {},
   "outputs": [],
   "source": []
  },
  {
   "cell_type": "code",
   "execution_count": null,
   "metadata": {},
   "outputs": [],
   "source": []
  },
  {
   "cell_type": "code",
   "execution_count": 76,
   "metadata": {},
   "outputs": [],
   "source": [
    "from matplotlib import ticker, cm\n",
    "import scipy.interpolate as interpol"
   ]
  },
  {
   "cell_type": "code",
   "execution_count": 77,
   "metadata": {},
   "outputs": [],
   "source": [
    "def powerlaw(energy, p):\n",
    "    \"\"\"\n",
    "    Returns:\n",
    "    Differential flux shaped as power-law function \"in units of ph/cm2/s/keV\"\n",
    "    \n",
    "    Parameters:\n",
    "    :param energy: 1D-array of energies where power-law is evaluated (in keV)\n",
    "    :param p:      p[0] = Normalisation (in ph/cm2/s/keV)\n",
    "    :param p:      p[1] = Power-law index (unitless)\n",
    "\n",
    "    Misc:\n",
    "    E0             Pivotal energy, i.e. where the power-law is normalised at (in keV)\n",
    "    \"\"\"\n",
    "    \n",
    "    E0 = 100.\n",
    "    \n",
    "    return p[0]*np.power(energy/E0,p[1])"
   ]
  },
  {
   "cell_type": "code",
   "execution_count": 78,
   "metadata": {},
   "outputs": [],
   "source": [
    "def cutoff_powerlaw(energy,p):\n",
    "    \"\"\"\n",
    "    Returns:\n",
    "    Differential flux shaped as power-law function with high-energy\n",
    "    cut-off \"in units of ph/cm2/s/keV\"\n",
    "    \n",
    "    Parameters:\n",
    "    :param energy: 1D-array of energies where power-law is evaluated (in keV)\n",
    "    :param p:      p[0] = Normalisation (in ph/cm2/s/keV)\n",
    "    :param p:      p[1] = Power-law index (unitless)\n",
    "    :param p:      p[2] = Cut-off energy (in keV)\n",
    "\n",
    "    Misc:\n",
    "    E0             Pivotal energy, i.e. where the power-law is normalised at (in keV)\n",
    "    \"\"\"\n",
    "    \n",
    "    E0 = 100.\n",
    "    \n",
    "    return p[0]*np.power(energy/E0,p[1])*np.exp(-energy/p[2])"
   ]
  },
  {
   "cell_type": "code",
   "execution_count": 79,
   "metadata": {},
   "outputs": [],
   "source": [
    "def Gaussian(energy,p):\n",
    "    \"\"\"\n",
    "    Returns:\n",
    "    Differential flux shaped as symmetric Gaussian \"in units of ph/cm2/s/keV\"\n",
    "    \n",
    "    Parameters:\n",
    "    :param energy: 1D-array of energies where power-law is evaluated (in keV)\n",
    "    :param p:      p[0] = Normalisation (area under Gaussian) (in ph/cm2/s)\n",
    "    :param p:      p[1] = Line centroid (in keV)\n",
    "    :param p:      p[2] = Line width (1-sigma value) (in keV)\n",
    "    \"\"\"    \n",
    "\n",
    "    return p[0]/(np.sqrt(2*np.pi)*p[2])*np.exp(-(energy-p[1])**2/(2*p[2]**2))"
   ]
  },
  {
   "cell_type": "code",
   "execution_count": 80,
   "metadata": {},
   "outputs": [],
   "source": [
    "x = np.linspace(10,10001,100000)"
   ]
  },
  {
   "cell_type": "code",
   "execution_count": 81,
   "metadata": {},
   "outputs": [],
   "source": [
    "pl = powerlaw(x,(1e-4,-2))\n",
    "copl = cutoff_powerlaw(x,(1e-4,-2,4e3))"
   ]
  },
  {
   "cell_type": "code",
   "execution_count": 82,
   "metadata": {},
   "outputs": [],
   "source": [
    "# integral of the differential flux\n",
    "# here, we use Simpson's 3/8 rule as it provides very accurate on this scale;\n",
    "# if, however, the models can change abruptly, consider the true integral, if available\n",
    "\n",
    "def integrate_gaussian(e_lo,e_hi,p):\n",
    "    return (e_hi-e_lo)/6.0*(Gaussian(e_lo,p)+4*Gaussian((e_hi+e_lo)/2.0,p)+Gaussian(e_hi,p))\n",
    "\n",
    "def integrate_powerlaw(e_lo,e_hi,p):\n",
    "    return (e_hi-e_lo)/6.0*(powerlaw(e_lo,p)+4*powerlaw((e_hi+e_lo)/2.0,p)+powerlaw(e_hi,p))"
   ]
  },
  {
   "cell_type": "code",
   "execution_count": 83,
   "metadata": {},
   "outputs": [],
   "source": [
    "plaw_true_fluxes = integrate_powerlaw(test.e_min, test.e_max, (1e-4,-2))  # dNp/(dt dA) "
   ]
  },
  {
   "cell_type": "code",
   "execution_count": 84,
   "metadata": {},
   "outputs": [
    {
     "data": {
      "text/plain": [
       "array([2.12309104e-03, 1.46993231e-03, 9.94535254e-04, 1.60256684e-04,\n",
       "       6.16450426e-04, 4.14692654e-04, 2.87062526e-04, 1.80645135e-04,\n",
       "       1.35798232e-04, 8.99252528e-05])"
      ]
     },
     "execution_count": 84,
     "metadata": {},
     "output_type": "execute_result"
    }
   ],
   "source": [
    "plaw_true_fluxes"
   ]
  },
  {
   "cell_type": "code",
   "execution_count": 85,
   "metadata": {},
   "outputs": [],
   "source": [
    "plaw_folded_counts = np.dot(plaw_true_fluxes, tmp)*3600 #/ test.e_wid"
   ]
  },
  {
   "cell_type": "code",
   "execution_count": 86,
   "metadata": {},
   "outputs": [
    {
     "data": {
      "text/plain": [
       "array([ 3.90613351, 23.94097937, 53.24004806, 12.01285524, 78.05975364,\n",
       "       77.95386414, 80.13863111, 46.26905415, 16.17556172,  1.34116888])"
      ]
     },
     "execution_count": 86,
     "metadata": {},
     "output_type": "execute_result"
    }
   ],
   "source": [
    "plaw_folded_counts"
   ]
  },
  {
   "cell_type": "code",
   "execution_count": 87,
   "metadata": {},
   "outputs": [
    {
     "data": {
      "text/plain": [
       "6"
      ]
     },
     "execution_count": 87,
     "metadata": {},
     "output_type": "execute_result"
    }
   ],
   "source": [
    "len(test.rsp.response_grid_normed.shape)"
   ]
  },
  {
   "cell_type": "code",
   "execution_count": 93,
   "metadata": {},
   "outputs": [
    {
     "data": {
      "image/png": "[encoded data removed]",
      "text/plain": [
       "<Figure size 576x432 with 1 Axes>"
      ]
     },
     "metadata": {
      "needs_background": "light"
     },
     "output_type": "display_data"
    }
   ],
   "source": [
    "plt.step(energy_bins,plaw_folded_counts/test.e_wid,where='mid')\n",
    "plt.xscale('log')"
   ]
  },
  {
   "cell_type": "code",
   "execution_count": null,
   "metadata": {},
   "outputs": [],
   "source": []
  },
  {
   "cell_type": "code",
   "execution_count": null,
   "metadata": {},
   "outputs": [],
   "source": []
  },
  {
   "cell_type": "code",
   "execution_count": 88,
   "metadata": {},
   "outputs": [],
   "source": [
    "#################################################################\n",
    "# note to myself:\n",
    "# next step: saving an loading of response with matrix included\n",
    "#################################################################"
   ]
  },
  {
   "cell_type": "code",
   "execution_count": null,
   "metadata": {},
   "outputs": [],
   "source": []
  },
  {
   "cell_type": "code",
   "execution_count": null,
   "metadata": {},
   "outputs": [],
   "source": [
    "test.SaveRegularBinnedMEGAlibResponse('response/RegularResponseGrid_v1.npz')"
   ]
  },
  {
   "cell_type": "code",
   "execution_count": null,
   "metadata": {},
   "outputs": [],
   "source": []
  },
  {
   "cell_type": "code",
   "execution_count": null,
   "metadata": {},
   "outputs": [],
   "source": [
    "\"\"\"np.savez_compressed('response/RegularResponseGrid_v1.npz',\n",
    "                   ResponseGrid = test.rsp.response_grid_normed,\n",
    "                   l_cen = test.l_cen,\n",
    "                   l_wid = test.l_wid,\n",
    "                   l_edges = test.l_edges,\n",
    "                   l_max = test.l_max,\n",
    "                   l_min = test.l_min,\n",
    "                   b_cen = test.b_cen,\n",
    "                   b_wid = test.b_wid,\n",
    "                   b_edges = test.b_edges,\n",
    "                   b_max = test.b_max,\n",
    "                   b_min = test.b_min,\n",
    "                   L_ARR = test.L_ARR,\n",
    "                   B_ARR = test.B_ARR,\n",
    "                   L_ARR_edges = test.L_ARR_edges,\n",
    "                   B_ARR_edges = test.B_ARR_edges,\n",
    "                   dL_ARR = test.dL_ARR,\n",
    "                   dB_ARR = test.dB_ARR,\n",
    "                   dL_ARR_edges = test.dL_ARR_edges,\n",
    "                   dB_ARR_edges = test.dB_ARR_edges,\n",
    "                   dOmega = test.regular_pixel_area)\"\"\""
   ]
  },
  {
   "cell_type": "code",
   "execution_count": null,
   "metadata": {},
   "outputs": [],
   "source": [
    "test.rsp.response_grid_normed.shape"
   ]
  },
  {
   "cell_type": "code",
   "execution_count": null,
   "metadata": {},
   "outputs": [],
   "source": [
    "(test.rsp.response_grid_normed.size * test.rsp.response_grid_normed.itemsize)/1024/1024/1024"
   ]
  },
  {
   "cell_type": "code",
   "execution_count": null,
   "metadata": {},
   "outputs": [],
   "source": []
  },
  {
   "cell_type": "code",
   "execution_count": null,
   "metadata": {},
   "outputs": [],
   "source": [
    "# this file is ~ 1 GB in size\n",
    "with np.load('../response/ResponseGrid511_v3.npz',) as content:\n",
    "    ResponseGrid1 = content['response_grid_normed']\n",
    "    l3cen = content['l3cen']\n",
    "    b3cen = content['b3cen']\n",
    "    l3wid = content['l3wid']\n",
    "    b3wid = content['b3wid']\n",
    "    L3 = content['L3']\n",
    "    B3 = content['B3']"
   ]
  },
  {
   "cell_type": "code",
   "execution_count": null,
   "metadata": {},
   "outputs": [],
   "source": [
    "np.sum(ResponseGrid1)"
   ]
  },
  {
   "cell_type": "code",
   "execution_count": null,
   "metadata": {},
   "outputs": [],
   "source": [
    "ResponseGrid1.shape"
   ]
  },
  {
   "cell_type": "code",
   "execution_count": null,
   "metadata": {},
   "outputs": [],
   "source": [
    "break"
   ]
  },
  {
   "cell_type": "code",
   "execution_count": null,
   "metadata": {},
   "outputs": [],
   "source": []
  },
  {
   "cell_type": "code",
   "execution_count": null,
   "metadata": {},
   "outputs": [],
   "source": [
    "test = response.SkyResponse('response/RegularResponseGrid_v1.npz',\n",
    "                            pixel_size=5)\n",
    "plt.pcolormesh(test.rsp.response_grid_normed[:,:,5,180])"
   ]
  },
  {
   "cell_type": "code",
   "execution_count": null,
   "metadata": {},
   "outputs": [],
   "source": [
    "test.n_b"
   ]
  },
  {
   "cell_type": "code",
   "execution_count": null,
   "metadata": {},
   "outputs": [],
   "source": []
  }
 ],
 "metadata": {
  "kernelspec": {
   "display_name": "Python 3",
   "language": "python",
   "name": "python3"
  },
  "language_info": {
   "codemirror_mode": {
    "name": "ipython",
    "version": 3
   },
   "file_extension": ".py",
   "mimetype": "text/x-python",
   "name": "python",
   "nbconvert_exporter": "python",
   "pygments_lexer": "ipython3",
   "version": "3.7.7"
  }
 },
 "nbformat": 4,
 "nbformat_minor": 2
}
