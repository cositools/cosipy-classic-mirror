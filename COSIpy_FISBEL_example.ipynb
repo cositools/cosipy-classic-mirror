{
 "cells": [
  {
   "cell_type": "code",
   "execution_count": 1,
   "metadata": {},
   "outputs": [
    {
     "name": "stdout",
     "output_type": "stream",
     "text": [
      "Welcome to JupyROOT 6.22/02\n"
     ]
    },
    {
     "name": "stderr",
     "output_type": "stream",
     "text": [
      "/usr/local/Cellar/python/3.7.7/Frameworks/Python.framework/Versions/3.7/lib/python3.7/site-packages/tqdm/autonotebook/__init__.py:14: TqdmExperimentalWarning: Using `tqdm.autonotebook.tqdm` in notebook mode. Use `tqdm.tqdm` instead to force console mode (e.g. in jupyter console)\n",
      "  \" (e.g. in jupyter console)\", TqdmExperimentalWarning)\n"
     ]
    }
   ],
   "source": [
    "from COSIpy import *"
   ]
  },
  {
   "cell_type": "markdown",
   "metadata": {},
   "source": [
    "<h3>Defining a grid in the sky with FISBEL:<br>\n",
    "    You define the number of pixels with the ~same size (i.e. you look up the size of the pixels afterwards; it might also work the other way round but the important numbers here are:<br>\n",
    "    n = 1650 for a 5 deg grid<br>\n",
    "    n = 4853 for a 3 deg grid)<br>\n",
    "    For example, to illustrate, I use 20 pixels:</h3>"
   ]
  },
  {
   "cell_type": "code",
   "execution_count": 2,
   "metadata": {},
   "outputs": [],
   "source": [
    "N = 20\n",
    "fb = FISBEL(n_bins=N)"
   ]
  },
  {
   "cell_type": "markdown",
   "metadata": {},
   "source": [
    "<h3>For plotting, I use random values. For you problem, you will have the number of pointings inside each pixel:</h3>"
   ]
  },
  {
   "cell_type": "code",
   "execution_count": 3,
   "metadata": {},
   "outputs": [
    {
     "data": {
      "image/png": "[encoded data removed]",
      "text/plain": [
       "<Figure size 1152x648 with 1 Axes>"
      ]
     },
     "metadata": {
      "needs_background": "light"
     },
     "output_type": "display_data"
    }
   ],
   "source": [
    "fb.plot_FISBEL_tessellation(tiles=True,values=np.random.rand(N))"
   ]
  },
  {
   "cell_type": "markdown",
   "metadata": {},
   "source": [
    "<h3>These 20 pixels (tiles) have the same solid angle. This is why the top and bottom pixel appear strechted. The central dot is just plotted for illustration.<br>\n",
    "    We can access the different edges in longitude and latitude by attributed of the fb object:<br>\n",
    "fb.lat_cen<br>\n",
    "fb.lat_edges<br>\n",
    "fb.lat_min<br>\n",
    "fb.lat_max<br>\n",
    "fb.lat_wid<br>\n",
    "    And the same for longitude.\n",
    "</h3>"
   ]
  },
  {
   "cell_type": "code",
   "execution_count": 4,
   "metadata": {},
   "outputs": [
    {
     "name": "stdout",
     "output_type": "stream",
     "text": [
      "fisbelbins\n",
      "n_fisbel_bins\n",
      "lat_cen\n",
      "lon_cen\n",
      "lat_wid\n",
      "lon_wid\n",
      "lat_min\n",
      "lon_min\n",
      "lat_max\n",
      "lon_max\n",
      "lat_edges\n",
      "lon_edges\n"
     ]
    }
   ],
   "source": [
    "fb.available_attributes"
   ]
  },
  {
   "cell_type": "code",
   "execution_count": 5,
   "metadata": {},
   "outputs": [
    {
     "data": {
      "text/plain": [
       "array([0.      , 0.451027, 0.451027, 0.451027, 0.451027, 0.451027,\n",
       "       1.159279, 1.159279, 1.159279, 1.159279, 1.159279, 1.159279,\n",
       "       1.159279, 1.159279, 1.982313, 1.982313, 1.982313, 1.982313,\n",
       "       1.982313, 2.690566])"
      ]
     },
     "execution_count": 5,
     "metadata": {},
     "output_type": "execute_result"
    }
   ],
   "source": [
    "fb.lat_min"
   ]
  },
  {
   "cell_type": "markdown",
   "metadata": {},
   "source": [
    "<h3>The definition is given in units of rad, so that latitude goes from $0$ to $\\pi$ and longitude from $0$ to $2\\pi$. For the correct problem, you might want to adapt the definition to degrees and -90 to +90 or something.</h3>"
   ]
  },
  {
   "cell_type": "markdown",
   "metadata": {},
   "source": [
    "<h3>I thought i had the size of the pixels as well, somewhere, but you can also just calculate them:</h3>"
   ]
  },
  {
   "cell_type": "code",
   "execution_count": 6,
   "metadata": {},
   "outputs": [],
   "source": [
    "domega = ((np.cos(fb.lat_min)-np.cos(fb.lat_max))*fb.lon_wid)"
   ]
  },
  {
   "cell_type": "code",
   "execution_count": 7,
   "metadata": {},
   "outputs": [
    {
     "data": {
      "text/plain": [
       "array([0.62831905, 0.62831787, 0.62831787, 0.62831787, 0.62831787,\n",
       "       0.62831787, 0.62831875, 0.62831875, 0.62831875, 0.62831875,\n",
       "       0.62831875, 0.62831875, 0.62831875, 0.62831875, 0.62831882,\n",
       "       0.62831882, 0.62831882, 0.62831882, 0.62831882, 0.6283181 ])"
      ]
     },
     "execution_count": 7,
     "metadata": {},
     "output_type": "execute_result"
    }
   ],
   "source": [
    "domega"
   ]
  },
  {
   "cell_type": "markdown",
   "metadata": {},
   "source": [
    "<h3>You see the pixel size is always the ~same (not exactly though), given in $\\rm rad^2$. To get the square-degree size, you just multiply by $(180/\\pi)^2$. And for the square-pixel equivalent, just taking the square-root:</h3>"
   ]
  },
  {
   "cell_type": "code",
   "execution_count": 8,
   "metadata": {},
   "outputs": [
    {
     "data": {
      "text/plain": [
       "(12.566370614358798, 12.566370614359172)"
      ]
     },
     "execution_count": 8,
     "metadata": {},
     "output_type": "execute_result"
    }
   ],
   "source": [
    "np.sum(domega),4*np.pi"
   ]
  },
  {
   "cell_type": "code",
   "execution_count": 9,
   "metadata": {},
   "outputs": [
    {
     "data": {
      "text/plain": [
       "array([2062.64975459, 2062.64590647, 2062.64590647, 2062.64590647,\n",
       "       2062.64590647, 2062.64590647, 2062.64878997, 2062.64878997,\n",
       "       2062.64878997, 2062.64878997, 2062.64878997, 2062.64878997,\n",
       "       2062.64878997, 2062.64878997, 2062.64900053, 2062.64900053,\n",
       "       2062.64900053, 2062.64900053, 2062.64900053, 2062.64664006])"
      ]
     },
     "execution_count": 9,
     "metadata": {},
     "output_type": "execute_result"
    }
   ],
   "source": [
    "domega*(180/np.pi)**2"
   ]
  },
  {
   "cell_type": "code",
   "execution_count": 10,
   "metadata": {},
   "outputs": [
    {
     "data": {
      "text/plain": [
       "array([45.41640403, 45.41636166, 45.41636166, 45.41636166, 45.41636166,\n",
       "       45.41636166, 45.41639341, 45.41639341, 45.41639341, 45.41639341,\n",
       "       45.41639341, 45.41639341, 45.41639341, 45.41639341, 45.41639572,\n",
       "       45.41639572, 45.41639572, 45.41639572, 45.41639572, 45.41636974])"
      ]
     },
     "execution_count": 10,
     "metadata": {},
     "output_type": "execute_result"
    }
   ],
   "source": [
    "np.sqrt(domega*(180/np.pi)**2)"
   ]
  },
  {
   "cell_type": "code",
   "execution_count": 11,
   "metadata": {},
   "outputs": [
    {
     "data": {
      "text/plain": [
       "(41252.96124941804, 41252.96124941927)"
      ]
     },
     "execution_count": 11,
     "metadata": {},
     "output_type": "execute_result"
    }
   ],
   "source": [
    "np.sum(domega*(180/np.pi)**2),360**2/np.pi"
   ]
  },
  {
   "cell_type": "markdown",
   "metadata": {},
   "source": [
    "<h3>Yes, the sky consists of 41253 square-degrees.</h3>"
   ]
  },
  {
   "cell_type": "code",
   "execution_count": null,
   "metadata": {},
   "outputs": [],
   "source": []
  }
 ],
 "metadata": {
  "kernelspec": {
   "display_name": "Python 3",
   "language": "python",
   "name": "python3"
  },
  "language_info": {
   "codemirror_mode": {
    "name": "ipython",
    "version": 3
   },
   "file_extension": ".py",
   "mimetype": "text/x-python",
   "name": "python",
   "nbconvert_exporter": "python",
   "pygments_lexer": "ipython3",
   "version": "3.7.7"
  }
 },
 "nbformat": 4,
 "nbformat_minor": 2
}
